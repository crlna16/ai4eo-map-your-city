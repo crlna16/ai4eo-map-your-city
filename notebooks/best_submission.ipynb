{
 "cells": [
  {
   "cell_type": "code",
   "execution_count": 1,
   "id": "11f35df8-81f1-46fe-802e-c97007cd444f",
   "metadata": {
    "tags": []
   },
   "outputs": [],
   "source": [
    "import os\n",
    "import pandas as pd"
   ]
  },
  {
   "cell_type": "markdown",
   "id": "618b2fba-b5ce-498c-9132-1330d4383fd1",
   "metadata": {},
   "source": [
    "Current best submission\n",
    "---\n",
    "\n",
    "**Status: 4. Mai 2024, 12:45**\n",
    "\n",
    "*Key: SwinV2-S (All modalities) -- multimodal_swin_05-03_C*\n",
    "\n",
    "*Score: 0.64655 // MPA_ALL_MODALITIES: 0.65097 // MPA_TOP_VIEW: 0.64213*\n",
    "\n",
    "Model description\n",
    "-----\n",
    "- Model name: **X-Multi-Modal Late Fusion**\n",
    "  - Orthophotos: SwinV2 transformer (small)\n",
    "  - Street photos: SwinV2 transformer (small)\n",
    "  - Sentinel-2 data: SwinV2 transformer (small)\n",
    "\n",
    "- The pretrained transformers provide embeddings for each modality.\n",
    "- These are combined through an attention module (mode: attention2).\n",
    "- At inference time, the model works even when the streetview image is not present.\n",
    "\n",
    "Data description\n",
    "---\n",
    "\n",
    "- All samples from HUN are excluded. They are underrepresented in the test set, and proved very hard to predict even with overfitting on a single batch.\n",
    "- 5-fold cross validation from StratifiedGroupKFold (stratify on class labels, group cities)\n",
    "- Data augmentation during training includes horizontal flips and colorjitter.\n",
    "\n",
    "Training procedure\n",
    "---\n",
    "- Early stopping is applied on the validation set confusion matrix diagonal mean.\n",
    "- Train on full node (2 GPUs).\n",
    "- Cross-entropy loss weighted with class weights from inverse sample count\n",
    "\n",
    "\n",
    "Test predictions and post-processing\n",
    "---\n",
    "\n",
    "Test set predictions are generated for each fold, and majority vote is applied. Where there is a tie, the value closest to the mean prediction is chosen."
   ]
  },
  {
   "cell_type": "code",
   "execution_count": 2,
   "id": "404e34c1-1425-4298-8a0c-f30794846ea5",
   "metadata": {},
   "outputs": [
    {
     "data": {
      "text/plain": [
       "['multimodal_swin_05-03_C']"
      ]
     },
     "execution_count": 2,
     "metadata": {},
     "output_type": "execute_result"
    }
   ],
   "source": [
    "best_submission_root = '../submissions/current_best_model/train/'\n",
    "best_experiments = os.listdir(best_submission_root)\n",
    "best_experiments"
   ]
  },
  {
   "cell_type": "code",
   "execution_count": 3,
   "id": "1dba1d4f-4118-4552-8552-9b2fbd32d512",
   "metadata": {
    "tags": []
   },
   "outputs": [],
   "source": [
    "runs = os.listdir(os.path.join(best_submission_root, best_experiments[0]))"
   ]
  },
  {
   "cell_type": "code",
   "execution_count": 4,
   "id": "39e173ea-6422-4a91-bba8-ce058e9181e5",
   "metadata": {
    "tags": []
   },
   "outputs": [],
   "source": [
    "with open(os.path.join(best_submission_root, best_experiments[0], runs[0], 'config_tree.log')) as f:\n",
    "    config_tree = f.readlines()"
   ]
  },
  {
   "cell_type": "code",
   "execution_count": 5,
   "id": "291ca746-f879-4461-b08c-bc6f941964fc",
   "metadata": {
    "tags": []
   },
   "outputs": [
    {
     "data": {
      "text/plain": [
       "['CONFIG\\n',\n",
       " '├── datamodule\\n',\n",
       " '│   └── _target_: ai4eo_mapyourcity.datamodules.mapyourcity_datamodule.MapYourCi\\n',\n",
       " '│       batch_size: 16                                                          \\n',\n",
       " '│       num_workers: 8                                                          \\n',\n",
       " '│       pin_memory: false                                                       \\n',\n",
       " '│       dataset_options:                                                        \\n',\n",
       " '│         data_dir: /work/ka1176/caroline/gitlab/AI4EO-MapYourCity/scripts/../da\\n',\n",
       " '│         fold: 3                                                               \\n',\n",
       " '│         fold_dir: /work/ka1176/caroline/gitlab/AI4EO-MapYourCity/scripts/../da\\n',\n",
       " '│         fold_key: random_stratified_labels_cities_noHUN                       \\n',\n",
       " '│         model_id:                                                             \\n',\n",
       " '│           topview: swinv2_small_window16_256.ms_in1k                          \\n',\n",
       " '│           streetview: swinv2_small_window16_256.ms_in1k                       \\n',\n",
       " '│           sentinel2: swinv2_small_window16_256.ms_in1k                        \\n',\n",
       " '│         dataset_options_topview:                                              \\n',\n",
       " '│           transform: resize                                                   \\n',\n",
       " '│           img_file: orthophoto.tif                                            \\n',\n",
       " '│           input_size: default                                                 \\n',\n",
       " '│         dataset_options_streetview:                                           \\n',\n",
       " '│           transform: default                                                  \\n',\n",
       " '│           img_file: street.jpg                                                \\n',\n",
       " '│           input_size: default                                                 \\n',\n",
       " '│         dataset_options_sentinel2:                                            \\n',\n",
       " '│           transform: patch                                                    \\n',\n",
       " '│           img_file: s2_l2a.tif                                                \\n',\n",
       " '│           input_size: default                                                 \\n',\n",
       " '│         transform: default                                                    \\n',\n",
       " '│                                                                               \\n',\n",
       " '├── model\\n',\n",
       " '│   └── _target_: ai4eo_mapyourcity.models.mapyourcity_model.MapYourCityModel   \\n',\n",
       " '│       learning_rate: 1.0e-05                                                  \\n',\n",
       " '│       weight_decay: 0.005                                                     \\n',\n",
       " '│       num_classes: 7                                                          \\n',\n",
       " '│       weighted_loss: true                                                     \\n',\n",
       " '│       class_weights:                                                          \\n',\n",
       " \"│         '0': 0.0647                                                           \\n\",\n",
       " \"│         '1': 0.158                                                            \\n\",\n",
       " \"│         '2': 0.16                                                             \\n\",\n",
       " \"│         '3': 0.14                                                             \\n\",\n",
       " \"│         '4': 0.116                                                            \\n\",\n",
       " \"│         '5': 0.143                                                            \\n\",\n",
       " \"│         '6': 0.219                                                            \\n\",\n",
       " '│       validation_metric: confusion_matrix                                     \\n',\n",
       " '│       loss_id: cross_entropy                                                  \\n',\n",
       " '│       drop_modalities:                                                        \\n',\n",
       " '│         topview: 0.0                                                          \\n',\n",
       " '│         sentinel2: 0.0                                                        \\n',\n",
       " '│         streetview: 0.0                                                       \\n',\n",
       " '│       backbone:                                                               \\n',\n",
       " '│         _target_: ai4eo_mapyourcity.models.backbones.TIMMCollectionCombined   \\n',\n",
       " '│         model_id:                                                             \\n',\n",
       " '│           topview: swinv2_small_window16_256.ms_in1k                          \\n',\n",
       " '│           streetview: swinv2_small_window16_256.ms_in1k                       \\n',\n",
       " '│           sentinel2: swinv2_small_window16_256.ms_in1k                        \\n',\n",
       " '│         is_pretrained: true                                                   \\n',\n",
       " '│         num_classes: 7                                                        \\n',\n",
       " '│         out_features:                                                         \\n',\n",
       " '│           topview: 768                                                        \\n',\n",
       " '│           streetview: 768                                                     \\n',\n",
       " '│           sentinel2: 768                                                      \\n',\n",
       " '│         fusion_mode: attention2                                               \\n',\n",
       " '│                                                                               \\n',\n",
       " '├── callbacks\\n',\n",
       " '│   └── model_checkpoint:                                                       \\n',\n",
       " '│         _target_: pytorch_lightning.callbacks.ModelCheckpoint                 \\n',\n",
       " '│         monitor: valid_metric                                                 \\n',\n",
       " '│         mode: max                                                             \\n',\n",
       " '│         save_top_k: 1                                                         \\n',\n",
       " '│         save_last: true                                                       \\n',\n",
       " '│         verbose: false                                                        \\n',\n",
       " '│         dirpath: checkpoints/                                                 \\n',\n",
       " '│         filename: epoch_{epoch:03d}                                           \\n',\n",
       " '│         auto_insert_metric_name: false                                        \\n',\n",
       " '│       early_stopping:                                                         \\n',\n",
       " '│         _target_: pytorch_lightning.callbacks.EarlyStopping                   \\n',\n",
       " '│         monitor: valid_metric                                                 \\n',\n",
       " '│         mode: max                                                             \\n',\n",
       " '│         patience: 6                                                           \\n',\n",
       " '│         min_delta: 0                                                          \\n',\n",
       " '│       model_summary:                                                          \\n',\n",
       " '│         _target_: pytorch_lightning.callbacks.RichModelSummary                \\n',\n",
       " '│         max_depth: -1                                                         \\n',\n",
       " '│       rich_progress_bar:                                                      \\n',\n",
       " '│         _target_: pytorch_lightning.callbacks.RichProgressBar                 \\n',\n",
       " '│                                                                               \\n',\n",
       " '├── logger\\n',\n",
       " '│   └── tensorboard:                                                            \\n',\n",
       " '│         _target_: pytorch_lightning.loggers.tensorboard.TensorBoardLogger     \\n',\n",
       " '│         save_dir: /work/ka1176/caroline/gitlab/AI4EO-MapYourCity/scripts/../lo\\n',\n",
       " '│         name: null                                                            \\n',\n",
       " '│         version: multimodal_swin_05-03_C/2024-05-03_22-47-30                  \\n',\n",
       " '│         log_graph: false                                                      \\n',\n",
       " '│         default_hp_metric: false                                              \\n',\n",
       " \"│         prefix: ''                                                            \\n\",\n",
       " '│                                                                               \\n',\n",
       " '├── trainer\\n',\n",
       " '│   └── _target_: pytorch_lightning.Trainer                                     \\n',\n",
       " '│       devices: auto                                                           \\n',\n",
       " '│       min_epochs: 1                                                           \\n',\n",
       " '│       max_epochs: 150                                                         \\n',\n",
       " '│       log_every_n_steps: 50                                                   \\n',\n",
       " '│                                                                               \\n',\n",
       " '├── original_work_dir\\n',\n",
       " '│   └── /work/ka1176/caroline/gitlab/AI4EO-MapYourCity/scripts/..               \\n',\n",
       " '├── data_dir\\n',\n",
       " '│   └── /work/ka1176/caroline/gitlab/AI4EO-MapYourCity/scripts/../data/AI4EO-Map\\n',\n",
       " '├── fold\\n',\n",
       " '│   └── 3                                                                       \\n',\n",
       " '├── fold_dir\\n',\n",
       " '│   └── /work/ka1176/caroline/gitlab/AI4EO-MapYourCity/scripts/../data/AI4EO-Map\\n',\n",
       " '├── ckpt_path\\n',\n",
       " '│   └── None                                                                    \\n',\n",
       " '├── print_config\\n',\n",
       " '│   └── True                                                                    \\n',\n",
       " '├── ignore_warnings\\n',\n",
       " '│   └── True                                                                    \\n',\n",
       " '├── train\\n',\n",
       " '│   └── True                                                                    \\n',\n",
       " '├── test\\n',\n",
       " '│   └── False                                                                   \\n',\n",
       " '├── seed\\n',\n",
       " '│   └── 404                                                                     \\n',\n",
       " '└── name\\n',\n",
       " '    └── multimodal_swin_05-03_C                                                 \\n']"
      ]
     },
     "execution_count": 5,
     "metadata": {},
     "output_type": "execute_result"
    }
   ],
   "source": [
    "config_tree"
   ]
  },
  {
   "cell_type": "markdown",
   "id": "15e0596b-98eb-4a14-8fca-a73da5821695",
   "metadata": {},
   "source": [
    "## References\n",
    "\n",
    "https://openaccess.thecvf.com/content/CVPR2022/papers/Ma_Are_Multimodal_Transformers_Robust_to_Missing_Modality_CVPR_2022_paper.pdf"
   ]
  },
  {
   "cell_type": "code",
   "execution_count": null,
   "id": "a07fa204-dc15-44e9-a1f5-790eff79cb94",
   "metadata": {},
   "outputs": [],
   "source": []
  }
 ],
 "metadata": {
  "kernelspec": {
   "display_name": "MapYourCity (AI4EO)",
   "language": "python",
   "name": "map-city"
  },
  "language_info": {
   "codemirror_mode": {
    "name": "ipython",
    "version": 3
   },
   "file_extension": ".py",
   "mimetype": "text/x-python",
   "name": "python",
   "nbconvert_exporter": "python",
   "pygments_lexer": "ipython3",
   "version": "3.10.10"
  }
 },
 "nbformat": 4,
 "nbformat_minor": 5
}

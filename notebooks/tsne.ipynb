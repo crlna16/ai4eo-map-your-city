{
 "cells": [
  {
   "cell_type": "code",
   "execution_count": null,
   "id": "da6ca269-850f-4a3f-8752-dc6820199a57",
   "metadata": {
    "tags": []
   },
   "outputs": [],
   "source": [
    "import os\n",
    "import pandas as pd\n",
    "import numpy as np\n",
    "\n",
    "from matplotlib import pyplot as plt\n",
    "import seaborn as sns"
   ]
  },
  {
   "cell_type": "code",
   "execution_count": null,
   "id": "4a44d597-8693-4645-a138-0ed8a04e4ffd",
   "metadata": {
    "tags": []
   },
   "outputs": [],
   "source": [
    "import torch\n",
    "import timm\n",
    "from PIL import Image"
   ]
  },
  {
   "cell_type": "code",
   "execution_count": null,
   "id": "94d3b0c4-0de5-4460-9183-ef5dbe8808dd",
   "metadata": {
    "tags": []
   },
   "outputs": [],
   "source": [
    "from sklearn.model_selection import train_test_split\n",
    "from sklearn.decomposition import PCA\n",
    "from sklearn.manifold import TSNE"
   ]
  },
  {
   "cell_type": "code",
   "execution_count": null,
   "id": "eff04870-c55b-46c6-b10d-15faf4abb51e",
   "metadata": {
    "tags": []
   },
   "outputs": [],
   "source": [
    "sns.set_style('whitegrid')"
   ]
  },
  {
   "cell_type": "markdown",
   "id": "0283c5c5-506f-4887-8a67-3437d816c082",
   "metadata": {},
   "source": [
    "## What did fine-tuning do the embeddings?"
   ]
  },
  {
   "cell_type": "code",
   "execution_count": null,
   "id": "f2f706c2-32a6-4732-9d79-16a0665fab2a",
   "metadata": {
    "tags": []
   },
   "outputs": [],
   "source": [
    "n_samples = 8"
   ]
  },
  {
   "cell_type": "code",
   "execution_count": null,
   "id": "11cce2d4-436d-458d-9413-5d6fd1a1527a",
   "metadata": {
    "tags": []
   },
   "outputs": [],
   "source": [
    "data_root = '../data/AI4EO-MapYourCity/v1/building-age-dataset/train/data/'\n",
    "dev_df = pd.read_csv('../data/AI4EO-MapYourCity/splits/dev-set.csv')"
   ]
  },
  {
   "cell_type": "code",
   "execution_count": null,
   "id": "d5d10c89-d874-4eca-a8e5-68b38884306e",
   "metadata": {
    "tags": []
   },
   "outputs": [],
   "source": [
    "dev_embeddings_path = '/home/k/k202141/rootgit/AI4EO-MapYourCity/logs/evaluations/runs/dump/2024-05-04_21-12-42/'\n",
    "os.listdir(dev_embeddings_path)[:5]"
   ]
  },
  {
   "cell_type": "code",
   "execution_count": null,
   "id": "44055169-899e-4b7b-986f-f5bcfbb7c66a",
   "metadata": {
    "tags": []
   },
   "outputs": [],
   "source": [
    "city_df = dev_df.query('country_id == \"QCD\" and city_id == \"4VAXW\"')\n",
    "_, samples = train_test_split(city_df, test_size=n_samples, stratify=city_df['label'], random_state=1312)"
   ]
  },
  {
   "cell_type": "code",
   "execution_count": null,
   "id": "5c3b7811-8ec2-4ce7-b729-0277d153cf9e",
   "metadata": {
    "tags": []
   },
   "outputs": [],
   "source": [
    "samples.info()"
   ]
  },
  {
   "cell_type": "code",
   "execution_count": null,
   "id": "37e9076e-6269-48d2-9bb6-6f9ce38a3d58",
   "metadata": {
    "tags": []
   },
   "outputs": [],
   "source": [
    "model = timm.create_model(\n",
    "    'swinv2_small_window16_256.ms_in1k',\n",
    "    pretrained=True,\n",
    "    num_classes=0,  # remove classifier nn.Linear\n",
    ")\n",
    "model = model.eval()"
   ]
  },
  {
   "cell_type": "code",
   "execution_count": null,
   "id": "e72541f7-8068-4231-9cb5-b90c69d60332",
   "metadata": {
    "tags": []
   },
   "outputs": [],
   "source": [
    "# get model specific transforms (normalization, resize)\n",
    "data_config = timm.data.resolve_model_data_config(model)\n",
    "transforms = timm.data.create_transform(**data_config, is_training=False)"
   ]
  },
  {
   "cell_type": "code",
   "execution_count": null,
   "id": "eacabec5-5138-4c27-a14d-bf6aafd9fe74",
   "metadata": {
    "tags": []
   },
   "outputs": [],
   "source": [
    "def load_photo(path):\n",
    "    with open(path, 'rb') as f:\n",
    "        img = Image.open(f)\n",
    "        img.load()\n",
    "        return img.convert(\"RGB\")"
   ]
  },
  {
   "cell_type": "code",
   "execution_count": null,
   "id": "2ea81c64-ed9c-45c1-9771-a411abc81cd5",
   "metadata": {
    "tags": []
   },
   "outputs": [],
   "source": [
    "batch = None\n",
    "dev_embeddings = []\n",
    "\n",
    "for label, pid in zip(samples['label'], samples['pid']):\n",
    "    img = transforms(load_photo(os.path.join(data_root, pid, 'street.jpg'))).unsqueeze(0)\n",
    "    dev_embeddings.append(np.load(os.path.join(dev_embeddings_path, f'{pid}_streetview.npy')))\n",
    "    \n",
    "    if batch is None:\n",
    "        batch = img\n",
    "    else:\n",
    "        batch = torch.cat([batch, img], 0)\n",
    "        \n",
    "dev_embeddings = np.asarray(dev_embeddings).squeeze()"
   ]
  },
  {
   "cell_type": "code",
   "execution_count": null,
   "id": "929a6b69-63c9-4717-ad22-7527e470b403",
   "metadata": {
    "tags": []
   },
   "outputs": [],
   "source": [
    "with torch.no_grad():\n",
    "    embeddings = model(batch)\n",
    "    embeddings = embeddings.numpy()"
   ]
  },
  {
   "cell_type": "code",
   "execution_count": null,
   "id": "8ad458b4-6b6c-4449-86e0-b338573d03c5",
   "metadata": {
    "tags": []
   },
   "outputs": [],
   "source": [
    "embeddings.shape, np.asarray(dev_embeddings).shape"
   ]
  },
  {
   "cell_type": "markdown",
   "id": "366167e7-dae5-4e86-b9b6-467bd52a9053",
   "metadata": {
    "tags": []
   },
   "source": [
    "### Before and after fine-tuning"
   ]
  },
  {
   "cell_type": "code",
   "execution_count": null,
   "id": "cbbe96be-7721-4c60-9921-fa77cf1e5e64",
   "metadata": {
    "tags": []
   },
   "outputs": [],
   "source": [
    "k = 4\n",
    "sns.jointplot(data=pd.DataFrame(dict(before=embeddings[k], after=dev_embeddings[k])),\n",
    "              x='before', y='after');"
   ]
  },
  {
   "cell_type": "markdown",
   "id": "ce9aa93b-70ea-4b01-8b86-6cd6b5f36cfc",
   "metadata": {},
   "source": [
    "## TSNE"
   ]
  },
  {
   "cell_type": "markdown",
   "id": "26facbfc-2e21-4033-b5dc-fd157b351733",
   "metadata": {},
   "source": [
    "### Read dev embeddings"
   ]
  },
  {
   "cell_type": "code",
   "execution_count": null,
   "id": "b017e8c9-7683-456c-946b-1d0212b0201f",
   "metadata": {
    "scrolled": true,
    "tags": []
   },
   "outputs": [],
   "source": [
    "dev_embeddings = {'topview':[], 'streetview':[], 'sentinel2':[]}\n",
    "\n",
    "for i, pid in enumerate(dev_df.pid.values):\n",
    "    print(i / len(dev_df) * 100)\n",
    "    for key in dev_embeddings:\n",
    "        dev_embeddings[key].append(np.load(os.path.join(dev_embeddings_path, f'{pid}_{key}.npy')))\n",
    "\n",
    "for key in dev_embeddings:\n",
    "    dev_embeddings[key] = np.asarray(dev_embeddings[key]).squeeze()"
   ]
  },
  {
   "cell_type": "code",
   "execution_count": null,
   "id": "4b0dcde4-27d4-4823-bb3a-93a1a11487c6",
   "metadata": {
    "tags": []
   },
   "outputs": [],
   "source": [
    "(dev_embeddings['topview']).shape"
   ]
  },
  {
   "cell_type": "code",
   "execution_count": null,
   "id": "7400185e-bdd0-4f4d-b4d9-f0453d77c307",
   "metadata": {
    "tags": []
   },
   "outputs": [],
   "source": [
    "tsne_topview = TSNE(perplexity=30)\n",
    "tsne_streetview = TSNE(perplexity=30)\n",
    "tsne_sentinel2 = TSNE(perplexity=30)"
   ]
  },
  {
   "cell_type": "code",
   "execution_count": null,
   "id": "659a1231-5b74-400d-8071-1987dd03fef8",
   "metadata": {
    "tags": []
   },
   "outputs": [],
   "source": [
    "%%time\n",
    "tsne_components_topview = tsne_topview.fit_transform(dev_embeddings['topview']).T\n",
    "tsne_components_streetview = tsne_streetview.fit_transform(dev_embeddings['streetview']).T\n",
    "tsne_components_sentinel2 = tsne_sentinel2.fit_transform(dev_embeddings['sentinel2']).T"
   ]
  },
  {
   "cell_type": "code",
   "execution_count": null,
   "id": "bbeefcc3-9c0f-4bf8-b704-bc56b2878bb0",
   "metadata": {
    "tags": []
   },
   "outputs": [],
   "source": [
    "labels = dev_df.label.values\n",
    "centers_streetview = np.zeros([7, 2])\n",
    "centers_topview = np.zeros([7, 2])\n",
    "centers_sentinel2 = np.zeros([7, 2])\n",
    "\n",
    "for i in range(7):\n",
    "    \n",
    "    ix = np.where(labels==i)[0]\n",
    "    for j in range(2):\n",
    "        centers_streetview[i,j] = np.mean(tsne_components_streetview[j][ix])\n",
    "        centers_topview[i,j] = np.mean(tsne_components_topview[j][ix])\n",
    "        centers_sentinel2[i,j] = np.mean(tsne_components_sentinel2[j][ix])"
   ]
  },
  {
   "cell_type": "code",
   "execution_count": null,
   "id": "aeac98d7-28e8-45bc-846d-7976e37e7e26",
   "metadata": {
    "tags": []
   },
   "outputs": [],
   "source": [
    "centers_streetview"
   ]
  },
  {
   "cell_type": "code",
   "execution_count": null,
   "id": "f9c25c92-4345-458c-a4f7-e3dfe7dbb414",
   "metadata": {
    "tags": []
   },
   "outputs": [],
   "source": [
    "fig, ax = plt.subplots(1, 3, sharex=True, sharey=True, figsize=(15, 5))\n",
    "\n",
    "ax[0].scatter(tsne_components_topview[0], tsne_components_topview[1], c=labels, cmap='rainbow')\n",
    "ax[1].scatter(tsne_components_streetview[0], tsne_components_streetview[1], c=labels, cmap='rainbow')\n",
    "ax[2].scatter(tsne_components_sentinel2[0], tsne_components_sentinel2[1], c=labels, cmap='rainbow')\n",
    "\n",
    "ax[0].set_title('Topview')\n",
    "ax[1].set_title('Streetview')\n",
    "ax[2].set_title('Sentinel-2')\n",
    "\n",
    "ax[0].plot(centers_topview[:,0], centers_topview[:,1], 'kx', markersize=50)\n",
    "ax[1].plot(centers_streetview[:,0], centers_streetview[:,1], 'kx', markersize=50)\n",
    "ax[2].plot(centers_sentinel2[:,0], centers_sentinel2[:,1], 'kx', markersize=50)\n",
    "\n",
    "plt.show()"
   ]
  },
  {
   "cell_type": "code",
   "execution_count": null,
   "id": "a2c7c2fa-fad8-4694-90c9-04f420a1c0e0",
   "metadata": {
    "tags": []
   },
   "outputs": [],
   "source": [
    "from sklearn.cluster import KMeans\n",
    "from sklearn.metrics import confusion_matrix"
   ]
  },
  {
   "cell_type": "code",
   "execution_count": null,
   "id": "b0c7a84a-3168-4ffe-9fe5-55b7dd000b7d",
   "metadata": {
    "tags": []
   },
   "outputs": [],
   "source": [
    "km_streetview = KMeans(7, init=centers_streetview)\n",
    "km_topview = KMeans(7, init=centers_topview)\n",
    "km_sentinel2 = KMeans(7, init=centers_sentinel2)"
   ]
  },
  {
   "cell_type": "code",
   "execution_count": null,
   "id": "294a9472-aa32-40db-8577-e5d1b6797114",
   "metadata": {
    "tags": []
   },
   "outputs": [],
   "source": [
    "pred_streetview = km_streetview.fit_predict(tsne_components_streetview.T)\n",
    "pred_topview = km_topview.fit_predict(tsne_components_topview.T)\n",
    "pred_sentinel2 = km_sentinel2.fit_predict(tsne_components_sentinel2.T)"
   ]
  },
  {
   "cell_type": "code",
   "execution_count": null,
   "id": "2decfc1b-dd01-4e2a-9a57-6813153c95fb",
   "metadata": {
    "tags": []
   },
   "outputs": [],
   "source": [
    "print('streetview', confusion_matrix(pred_streetview, dev_df.label.values, normalize='true').diagonal().mean())\n",
    "print('topview   ', confusion_matrix(pred_topview, dev_df.label.values, normalize='true').diagonal().mean())\n",
    "print('sentinel2 ', confusion_matrix(pred_sentinel2, dev_df.label.values, normalize='true').diagonal().mean())"
   ]
  },
  {
   "cell_type": "code",
   "execution_count": null,
   "id": "a99583bf-ace8-42f9-84d1-ab2f1867746b",
   "metadata": {
    "tags": []
   },
   "outputs": [],
   "source": [
    "fig, ax = plt.subplots(3, 2, sharex=True, sharey=True, figsize=(10, 15))\n",
    "\n",
    "# topview\n",
    "ax[0,0].scatter(tsne_components_topview[0], tsne_components_topview[1], c=labels, cmap='rainbow')\n",
    "ax[0,1].scatter(tsne_components_topview[0], tsne_components_topview[1], c=pred_topview, cmap='rainbow')\n",
    "\n",
    "ax[1,0].scatter(tsne_components_streetview[0], tsne_components_streetview[1], c=labels, cmap='rainbow')\n",
    "ax[1,1].scatter(tsne_components_streetview[0], tsne_components_streetview[1], c=pred_streetview, cmap='rainbow')\n",
    "\n",
    "ax[2,0].scatter(tsne_components_sentinel2[0], tsne_components_sentinel2[1], c=labels, cmap='rainbow')\n",
    "ax[2,1].scatter(tsne_components_sentinel2[0], tsne_components_sentinel2[1], c=pred_sentinel2, cmap='rainbow')\n",
    "\n",
    "ax[0,0].set_title('True labels')\n",
    "ax[0,1].set_title('Predicted clusters');"
   ]
  },
  {
   "cell_type": "markdown",
   "id": "ae1e5933-a49b-4ace-9ce0-fe16b86207e0",
   "metadata": {},
   "source": [
    "Idea is to use these clusters to judge test samples better where the models are unsure.\n",
    "- Model predicts different label for each fold --> use this to decide"
   ]
  },
  {
   "cell_type": "code",
   "execution_count": null,
   "id": "fca021d5-ab57-4974-b084-2df673f51feb",
   "metadata": {},
   "outputs": [],
   "source": []
  }
 ],
 "metadata": {
  "kernelspec": {
   "display_name": "MapYourCity (AI4EO)",
   "language": "python",
   "name": "map-city"
  },
  "language_info": {
   "codemirror_mode": {
    "name": "ipython",
    "version": 3
   },
   "file_extension": ".py",
   "mimetype": "text/x-python",
   "name": "python",
   "nbconvert_exporter": "python",
   "pygments_lexer": "ipython3",
   "version": "3.10.10"
  }
 },
 "nbformat": 4,
 "nbformat_minor": 5
}

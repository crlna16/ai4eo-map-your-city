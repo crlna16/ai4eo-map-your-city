{
 "cells": [
  {
   "cell_type": "code",
   "execution_count": null,
   "id": "da6ca269-850f-4a3f-8752-dc6820199a57",
   "metadata": {
    "tags": []
   },
   "outputs": [],
   "source": [
    "import os\n",
    "import pandas as pd\n",
    "import numpy as np\n",
    "\n",
    "from matplotlib import pyplot as plt\n",
    "import seaborn as sns"
   ]
  },
  {
   "cell_type": "code",
   "execution_count": null,
   "id": "94d3b0c4-0de5-4460-9183-ef5dbe8808dd",
   "metadata": {
    "tags": []
   },
   "outputs": [],
   "source": [
    "from sklearn.model_selection import train_test_split\n",
    "from sklearn.manifold import TSNE"
   ]
  },
  {
   "cell_type": "code",
   "execution_count": null,
   "id": "eff04870-c55b-46c6-b10d-15faf4abb51e",
   "metadata": {
    "tags": []
   },
   "outputs": [],
   "source": [
    "sns.set_style('whitegrid')"
   ]
  },
  {
   "cell_type": "code",
   "execution_count": null,
   "id": "05e5c5bc-3d07-436b-ba79-64dd1cd81249",
   "metadata": {
    "tags": []
   },
   "outputs": [],
   "source": [
    "dev_embeddings_root = '/home/k/k202141/rootgit/AI4EO-MapYourCity/logs/evaluations/runs/'\n",
    "experiment = 'multimodal_swin_05-06_A'\n",
    "np.sort(os.listdir(os.path.join(dev_embeddings_root, experiment)))"
   ]
  },
  {
   "cell_type": "code",
   "execution_count": null,
   "id": "a97fe2cb-e2fb-4ebf-9b03-7249c05c3918",
   "metadata": {
    "tags": []
   },
   "outputs": [],
   "source": [
    "fold = '2024-05-06_16-01-08'\n",
    "dev_embeddings_path = os.path.join(dev_embeddings_root, experiment, fold)\n",
    "os.listdir(dev_embeddings_path)[:5]"
   ]
  },
  {
   "cell_type": "code",
   "execution_count": null,
   "id": "11cce2d4-436d-458d-9413-5d6fd1a1527a",
   "metadata": {
    "tags": []
   },
   "outputs": [],
   "source": [
    "data_root = '../data/AI4EO-MapYourCity/v1/building-age-dataset/train/data/'\n",
    "dev_df = pd.read_csv('../data/AI4EO-MapYourCity/splits/dev-set.csv')\n",
    "test_df = pd.read_csv('../data/AI4EO-MapYourCity/v1/building-age-dataset/test/test-set.csv')"
   ]
  },
  {
   "cell_type": "code",
   "execution_count": null,
   "id": "5c73248a-7404-40c3-9254-30450d222f40",
   "metadata": {
    "tags": []
   },
   "outputs": [],
   "source": [
    "this_dev_df = pd.merge(pd.read_csv(os.path.join(dev_embeddings_path, 'dev_predictions.csv')),\n",
    "                        dev_df, on='pid')\n",
    "this_dev_df.head()"
   ]
  },
  {
   "cell_type": "code",
   "execution_count": null,
   "id": "67a13196-08dc-4dc4-bbc5-993bd4e11479",
   "metadata": {
    "tags": []
   },
   "outputs": [],
   "source": [
    "this_test_df = pd.merge(pd.read_csv(os.path.join(dev_embeddings_path, 'test_predictions.csv')),\n",
    "                        test_df, on='pid')\n",
    "this_test_df.head()"
   ]
  },
  {
   "cell_type": "markdown",
   "id": "ce9aa93b-70ea-4b01-8b86-6cd6b5f36cfc",
   "metadata": {},
   "source": [
    "## TSNE\n"
   ]
  },
  {
   "cell_type": "markdown",
   "id": "26facbfc-2e21-4033-b5dc-fd157b351733",
   "metadata": {},
   "source": [
    "### Read dev embeddings"
   ]
  },
  {
   "cell_type": "code",
   "execution_count": null,
   "id": "b017e8c9-7683-456c-946b-1d0212b0201f",
   "metadata": {
    "tags": []
   },
   "outputs": [],
   "source": [
    "%%time\n",
    "dev_embeddings = {'topview':[], 'streetview':[], 'sentinel2':[]}\n",
    "\n",
    "for i, pid in enumerate(dev_df.pid.values):\n",
    "    for key in dev_embeddings:\n",
    "        dev_embeddings[key].append(np.load(os.path.join(dev_embeddings_path, f'{pid}_{key}.npy')))\n",
    "\n",
    "for key in dev_embeddings:\n",
    "    dev_embeddings[key] = np.asarray(dev_embeddings[key]).squeeze()"
   ]
  },
  {
   "cell_type": "code",
   "execution_count": null,
   "id": "afe7b809-04c5-4048-a156-c92b02c6921a",
   "metadata": {
    "tags": []
   },
   "outputs": [],
   "source": [
    "%%time\n",
    "test_embeddings = {'topview':[], 'streetview':[], 'sentinel2':[]}\n",
    "pids = {'topview':[], 'streetview':[], 'sentinel2':[]}\n",
    "is_valid_streetview = []\n",
    "\n",
    "for i, pid in enumerate(test_df.pid.values):\n",
    "    for key in test_embeddings:\n",
    "        pf = os.path.join(dev_embeddings_path, f'{pid}_{key}.npy')\n",
    "        if not os.path.exists(pf):\n",
    "            continue\n",
    "        test_embeddings[key].append(np.load(pf))\n",
    "        if key == 'streetview':\n",
    "            is_valid_streetview.append(i)\n",
    "        pids[key].append(pid)\n",
    "\n",
    "for key in test_embeddings:\n",
    "    test_embeddings[key] = np.asarray(test_embeddings[key]).squeeze()"
   ]
  },
  {
   "cell_type": "markdown",
   "id": "062498c4-c428-4e09-85d6-7a375d14d84f",
   "metadata": {},
   "source": [
    "### Create TSNE"
   ]
  },
  {
   "cell_type": "code",
   "execution_count": null,
   "id": "9dbb0fce-8a1c-4a22-8833-cb209cc64297",
   "metadata": {
    "tags": []
   },
   "outputs": [],
   "source": [
    "ndev = len(dev_embeddings['topview'])"
   ]
  },
  {
   "cell_type": "code",
   "execution_count": null,
   "id": "6d081ffb-2cd3-4f82-a8cb-6016fa8b8c07",
   "metadata": {
    "tags": []
   },
   "outputs": [],
   "source": [
    "embeddings = {}\n",
    "tsne = {}\n",
    "\n",
    "for key in dev_embeddings:\n",
    "    embeddings[key] = np.concatenate([dev_embeddings[key], test_embeddings[key]])\n",
    "    tsne[key] = TSNE()\n",
    "  "
   ]
  },
  {
   "cell_type": "code",
   "execution_count": null,
   "id": "12c45ff6-e77a-40ff-9220-c27d9fd57244",
   "metadata": {
    "tags": []
   },
   "outputs": [],
   "source": [
    "%%time  \n",
    "tsne_comp = {}\n",
    "for key in tsne:\n",
    "    tsne_comp[key] = tsne[key].fit_transform(embeddings[key])\n",
    "    print(key, tsne_comp[key].shape)"
   ]
  },
  {
   "cell_type": "code",
   "execution_count": null,
   "id": "e646e672-604a-49a9-ab6b-8c0ea1029f97",
   "metadata": {
    "tags": []
   },
   "outputs": [],
   "source": [
    "labels = {}\n",
    "centers = {}\n",
    "\n",
    "for key, comp in tsne_comp.items():\n",
    "    print(key)\n",
    "    labels[key] = np.zeros(len(comp)) + 7 # Test set - class 7 (placeholder)\n",
    "    labels[key][:ndev] = dev_df.label.values\n",
    "    centers[key] = np.zeros([7, 2])\n",
    "        \n",
    "    for i in range(7):\n",
    "        ix = np.where(labels[key]==i)[0]\n",
    "        for j in range(2):\n",
    "            centers[key][i,j] = np.mean(comp[:,j][ix])"
   ]
  },
  {
   "cell_type": "markdown",
   "id": "160943f4-4700-4f11-ab99-cee5deccfb6b",
   "metadata": {},
   "source": [
    "The following plots show the density of the TSNE test samples (gray) and the labeled dev set samples (colored)."
   ]
  },
  {
   "cell_type": "code",
   "execution_count": null,
   "id": "3a79a072-4252-4e55-a893-f60ac8bcb53a",
   "metadata": {
    "tags": []
   },
   "outputs": [],
   "source": [
    "dfs = {} # for plotting\n",
    "for key, comp in tsne_comp.items():\n",
    "    dfs[key] = pd.DataFrame(dict(c1=comp[:,0],\n",
    "                                 c2=comp[:,1],\n",
    "                                 l0=labels[key].astype(int)))"
   ]
  },
  {
   "cell_type": "code",
   "execution_count": null,
   "id": "8667db45-143f-46bf-a6be-7bcfd5e8f8b6",
   "metadata": {
    "tags": []
   },
   "outputs": [],
   "source": [
    "sns.kdeplot(data=dfs['topview'].iloc[ndev:], x='c1', y='c2', hue='l0', palette='gray', alpha=0.6, zorder=150)\n",
    "sns.scatterplot(data=dfs['topview'].iloc[:ndev], x='c1', y='c2', hue='l0', palette='muted', alpha=1.0, zorder=180)\n",
    "ax=plt.gca()\n",
    "ax.set_aspect('equal')"
   ]
  },
  {
   "cell_type": "code",
   "execution_count": null,
   "id": "f6ddcb1b-a4d9-49e5-a767-d98e8de2de51",
   "metadata": {
    "tags": []
   },
   "outputs": [],
   "source": [
    "sns.kdeplot(data=dfs['streetview'].iloc[ndev:], x='c1', y='c2', hue='l0', palette='gray', alpha=0.6, zorder=150)\n",
    "sns.scatterplot(data=dfs['streetview'].iloc[:ndev], x='c1', y='c2', hue='l0', palette='muted', alpha=1.0, zorder=180)\n",
    "ax=plt.gca()\n",
    "ax.set_aspect('equal')"
   ]
  },
  {
   "cell_type": "code",
   "execution_count": null,
   "id": "b140987f-4e36-4c4a-aed7-8def7d792074",
   "metadata": {
    "tags": []
   },
   "outputs": [],
   "source": [
    "sns.kdeplot(data=dfs['sentinel2'].iloc[ndev:], x='c1', y='c2', hue='l0', palette='gray', alpha=0.6, zorder=150)\n",
    "sns.scatterplot(data=dfs['sentinel2'].iloc[:ndev], x='c1', y='c2', hue='l0', palette='muted', alpha=1.0, zorder=180)\n",
    "ax=plt.gca()\n",
    "ax.set_aspect('equal')"
   ]
  },
  {
   "cell_type": "code",
   "execution_count": null,
   "id": "a2c7c2fa-fad8-4694-90c9-04f420a1c0e0",
   "metadata": {
    "tags": []
   },
   "outputs": [],
   "source": [
    "from sklearn.cluster import KMeans\n",
    "from sklearn.metrics import confusion_matrix"
   ]
  },
  {
   "cell_type": "code",
   "execution_count": null,
   "id": "93cb1209-a9d9-40d2-9d32-2b47ae75a5a4",
   "metadata": {
    "tags": []
   },
   "outputs": [],
   "source": [
    "kmeans = {}\n",
    "kpreds = {}\n",
    "for key, center in centers.items():\n",
    "    kmeans[key] = KMeans(7, init=centers[key])\n",
    "    kmeans[key].fit(tsne_comp[key][:ndev])\n",
    "    \n",
    "    # predictions made by kmeans\n",
    "    kpreds[key] = {'dev': kmeans[key].predict(tsne_comp[key][:ndev]),\n",
    "                   'test': kmeans[key].predict(tsne_comp[key][ndev:])\n",
    "                  }"
   ]
  },
  {
   "cell_type": "code",
   "execution_count": null,
   "id": "2decfc1b-dd01-4e2a-9a57-6813153c95fb",
   "metadata": {
    "tags": []
   },
   "outputs": [],
   "source": [
    "print('streetview', confusion_matrix(kpreds['streetview']['dev'], dev_df.label.values, normalize='true').diagonal().mean())\n",
    "print('topview   ', confusion_matrix(kpreds['topview']['dev'], dev_df.label.values, normalize='true').diagonal().mean())\n",
    "print('sentinel2 ', confusion_matrix(kpreds['sentinel2']['dev'], dev_df.label.values, normalize='true').diagonal().mean())"
   ]
  },
  {
   "cell_type": "markdown",
   "id": "89970ce6-5b8c-4272-b815-517fa6f47dcb",
   "metadata": {},
   "source": [
    "Cluster and dev data"
   ]
  },
  {
   "cell_type": "code",
   "execution_count": null,
   "id": "b63f3e2a-4203-4e64-a27c-32098fc0e6ad",
   "metadata": {
    "tags": []
   },
   "outputs": [],
   "source": [
    "fig, ax = plt.subplots(3, 2, sharex=True, sharey=True, figsize=(10, 15))\n",
    "\n",
    "for i, (key, comp) in enumerate(tsne_comp.items()):\n",
    "    ax[i,0].scatter(comp[:ndev,0], comp[:ndev,1], c=labels[key][:ndev], cmap='rainbow')\n",
    "    ax[i,1].scatter(comp[:ndev,0], comp[:ndev,1], c=kpreds[key]['dev'], cmap='rainbow')\n",
    "    ax[i,0].set_title(f'True labels {key}')\n",
    "    ax[i,1].set_title(f'Clusters {key}')    "
   ]
  },
  {
   "cell_type": "code",
   "execution_count": null,
   "id": "5999f4be-1adf-4336-9eb5-73a0f8e79c0f",
   "metadata": {
    "tags": []
   },
   "outputs": [],
   "source": [
    "fig, ax = plt.subplots(1, 2, sharex=True, sharey=True, figsize=(10, 4))\n",
    "\n",
    "for i, (key, comp) in enumerate(tsne_comp.items()):\n",
    "    if key != 'streetview':\n",
    "        continue\n",
    "        \n",
    "    print(len(comp))\n",
    "        \n",
    "    k = np.where(np.array(pids[key]) == 'bd8jhrdavd')[0][0]\n",
    "    kk = k + ndev\n",
    "    print(this_test_df.iloc[is_valid_streetview].iloc[k])\n",
    "    plabel = this_test_df.iloc[is_valid_streetview].iloc[k].predicted_label\n",
    "    \n",
    "    ax[0].scatter(comp[:ndev,0], comp[:ndev,1], c=labels[key][:ndev], alpha=0.2, cmap='rainbow')\n",
    "    img=ax[1].scatter(comp[:ndev,0], comp[:ndev,1], c=kpreds[key]['dev'], alpha=0.2, cmap='rainbow')\n",
    "    plt.colorbar(img, ax=ax)\n",
    "    \n",
    "    \n",
    "    ax[0].plot(comp[kk,0], comp[kk,1], marker='x', color='k')\n",
    "    ax[1].plot(comp[kk,0], comp[kk,1], marker='x', color='k')\n",
    "    \n",
    "    print(f'Predicted class: {plabel} / Clustered class: {kpreds[key][\"test\"][k]}')\n",
    "    \n",
    "    \n",
    "    ax[0].set_title(f'True labels {key}')\n",
    "    ax[1].set_title(f'Clusters {key}')    "
   ]
  },
  {
   "cell_type": "markdown",
   "id": "a238f07e-28bf-40a3-815d-b42caf887d09",
   "metadata": {},
   "source": [
    "## Cosine Similariy"
   ]
  },
  {
   "cell_type": "code",
   "execution_count": null,
   "id": "8d98a2d0-237e-48ba-8918-11113bbfa422",
   "metadata": {
    "tags": []
   },
   "outputs": [],
   "source": [
    "import torch\n",
    "from torch.nn import functional as F"
   ]
  },
  {
   "cell_type": "code",
   "execution_count": null,
   "id": "92749b69-4eb3-4ba6-bb56-a159420c697f",
   "metadata": {
    "scrolled": true,
    "tags": []
   },
   "outputs": [],
   "source": [
    "nn = 13\n",
    "\n",
    "new_classes = []\n",
    "\n",
    "for k in range(len(dev_df.pid.values)):\n",
    "    pid = dev_df.pid.iloc[k]\n",
    "    \n",
    "    ix = np.ones(len(dev_embeddings['topview'])).astype(bool)\n",
    "    ix[k] = False\n",
    "    \n",
    "    tensor_embed1 = torch.Tensor(dev_embeddings['topview'][ix])\n",
    "    \n",
    "    tensor_embed2 = torch.Tensor(dev_embeddings['topview'][k]).unsqueeze(0)\n",
    "    cos_sim = F.cosine_similarity(tensor_embed1, tensor_embed2).numpy()\n",
    "    sort_ix = np.argsort(cos_sim)[::-1]\n",
    "    threshold_ix = cos_sim>0.6\n",
    "    if np.sum(threshold_ix)<2:\n",
    "        threshold_ix = cos_sim>0.4\n",
    "        \n",
    "        if np.sum(threshold_ix)<2:\n",
    "            threshold_ix = cos_sim>0.2\n",
    "        \n",
    "    classes, counts = np.unique(labels['topview'][:ndev][sort_ix][:nn], return_counts=True)\n",
    "    #classes, counts = np.unique(labels['topview'][:ndev][threshold_ix], return_counts=True)\n",
    "    sort_ix2 = np.argsort(counts)[::-1]\n",
    "    new_classes.append(classes[sort_ix2][0])\n",
    "    \n",
    "    print(pid)"
   ]
  },
  {
   "cell_type": "code",
   "execution_count": null,
   "id": "a727f212-42d7-4c02-8f4a-a4d52638d069",
   "metadata": {
    "tags": []
   },
   "outputs": [],
   "source": [
    "df =pd.DataFrame(dict(pid=dev_df.pid.values, new_classes=new_classes))"
   ]
  },
  {
   "cell_type": "code",
   "execution_count": null,
   "id": "b73fbac5-3b80-451c-b089-ea1f840b8d03",
   "metadata": {
    "tags": []
   },
   "outputs": [],
   "source": [
    "new_df = pd.merge(this_dev_df, df, on='pid')"
   ]
  },
  {
   "cell_type": "code",
   "execution_count": null,
   "id": "ba3fe110-817f-4795-a82c-9a250c486709",
   "metadata": {
    "tags": []
   },
   "outputs": [],
   "source": [
    "m1 = confusion_matrix(new_df['new_classes'], new_df['label'], normalize='true').diagonal().mean()\n",
    "m2 = confusion_matrix(new_df['predicted_label'], new_df['label'], normalize='true').diagonal().mean()"
   ]
  },
  {
   "cell_type": "code",
   "execution_count": null,
   "id": "ece14b1c-9d9b-474d-a6a5-aff269da574d",
   "metadata": {
    "tags": []
   },
   "outputs": [],
   "source": [
    "print(m1, m2)"
   ]
  },
  {
   "cell_type": "code",
   "execution_count": null,
   "id": "0397ae0e-3a47-41bf-ab68-53f93c275cd7",
   "metadata": {},
   "outputs": [],
   "source": []
  },
  {
   "cell_type": "code",
   "execution_count": null,
   "id": "28c2fe85-e881-43b7-bc7f-d1c2514ce3d4",
   "metadata": {},
   "outputs": [],
   "source": []
  },
  {
   "cell_type": "code",
   "execution_count": null,
   "id": "b5ea36a5-d3d0-4ac2-94d2-b6ac71394667",
   "metadata": {},
   "outputs": [],
   "source": []
  },
  {
   "cell_type": "code",
   "execution_count": null,
   "id": "9e6f9804-0738-487d-9616-0876e063ae6c",
   "metadata": {},
   "outputs": [],
   "source": []
  },
  {
   "cell_type": "code",
   "execution_count": null,
   "id": "236d0b37-f430-433f-8bb7-fea91d3c20b3",
   "metadata": {},
   "outputs": [],
   "source": []
  },
  {
   "cell_type": "code",
   "execution_count": null,
   "id": "27924b35-7597-42d3-b996-3366e0804ae8",
   "metadata": {
    "scrolled": true,
    "tags": []
   },
   "outputs": [],
   "source": [
    "tensor_embed1 = torch.Tensor(dev_embeddings['topview'])\n",
    "nn = 13\n",
    "\n",
    "new_classes = []\n",
    "\n",
    "for k in range(len(pids['topview'])):\n",
    "    pid = pids['topview'][k]    \n",
    "    tensor_embed2 = torch.Tensor(test_embeddings['topview'][k]).unsqueeze(0)\n",
    "    cos_sim = F.cosine_similarity(tensor_embed1, tensor_embed2).numpy()\n",
    "    sort_ix = np.argsort(cos_sim)[::-1]\n",
    "    threshold_ix = cos_sim>0.6\n",
    "    if np.sum(threshold_ix)<2:\n",
    "        threshold_ix = cos_sim>0.4\n",
    "        \n",
    "        if np.sum(threshold_ix)<2:\n",
    "            threshold_ix = cos_sim>0.2\n",
    "        \n",
    "    classes, counts = np.unique(labels['topview'][:ndev][sort_ix][:nn], return_counts=True)\n",
    "    #classes, counts = np.unique(labels['topview'][:ndev][threshold_ix], return_counts=True)\n",
    "    sort_ix2 = np.argsort(counts)[::-1]\n",
    "    new_classes.append(classes[sort_ix2][0])\n",
    "    \n",
    "    print(pid)"
   ]
  },
  {
   "cell_type": "code",
   "execution_count": null,
   "id": "c8eef23a-6816-4de7-9564-84a8ac096bdb",
   "metadata": {
    "tags": []
   },
   "outputs": [],
   "source": [
    "df =pd.DataFrame(dict(pid=pids['topview'], new_classes=new_classes))"
   ]
  },
  {
   "cell_type": "code",
   "execution_count": null,
   "id": "5d693142-2fae-444e-8224-e0ce07b0270f",
   "metadata": {
    "tags": []
   },
   "outputs": [],
   "source": [
    "new_df = pd.merge(this_test_df, df, on='pid')"
   ]
  },
  {
   "cell_type": "code",
   "execution_count": null,
   "id": "1a76a10b-e51f-4209-8b9c-ff7f91ab1ea2",
   "metadata": {},
   "outputs": [],
   "source": [
    "(new_df['predicted_label'] == new_df['new_classes']).sum()"
   ]
  },
  {
   "cell_type": "code",
   "execution_count": null,
   "id": "ac10e10a-68f6-454d-b728-0e16b99b9c7f",
   "metadata": {},
   "outputs": [],
   "source": [
    "plt.hist(cos_sim, bins=50);"
   ]
  },
  {
   "cell_type": "code",
   "execution_count": null,
   "id": "5b5a4d91-0b48-4bac-90eb-35e01f2981d5",
   "metadata": {},
   "outputs": [],
   "source": []
  },
  {
   "cell_type": "code",
   "execution_count": null,
   "id": "fc5f9036-28c2-4ddd-8f03-3465a36c2e08",
   "metadata": {},
   "outputs": [],
   "source": []
  }
 ],
 "metadata": {
  "kernelspec": {
   "display_name": "MapYourCity (AI4EO)",
   "language": "python",
   "name": "map-city"
  },
  "language_info": {
   "codemirror_mode": {
    "name": "ipython",
    "version": 3
   },
   "file_extension": ".py",
   "mimetype": "text/x-python",
   "name": "python",
   "nbconvert_exporter": "python",
   "pygments_lexer": "ipython3",
   "version": "3.10.10"
  }
 },
 "nbformat": 4,
 "nbformat_minor": 5
}

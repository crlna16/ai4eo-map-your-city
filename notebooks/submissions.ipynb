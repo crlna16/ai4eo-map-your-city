{
 "cells": [
  {
   "cell_type": "code",
   "execution_count": null,
   "id": "c2207280-0c00-4b06-9209-63efc98f606f",
   "metadata": {
    "tags": []
   },
   "outputs": [],
   "source": [
    "import pandas as pd\n",
    "import os\n",
    "import glob"
   ]
  },
  {
   "cell_type": "code",
   "execution_count": null,
   "id": "c82d98e8-93bd-4c78-ac56-713e2b859991",
   "metadata": {
    "tags": []
   },
   "outputs": [],
   "source": [
    "from sklearn.metrics import confusion_matrix, accuracy_score\n",
    "import seaborn as sns\n",
    "import numpy as np\n",
    "\n",
    "from matplotlib import pyplot as plt\n",
    "import rasterio"
   ]
  },
  {
   "cell_type": "code",
   "execution_count": null,
   "id": "cf75d573-1883-4a3f-b75c-599990885813",
   "metadata": {
    "tags": []
   },
   "outputs": [],
   "source": [
    "import pprint"
   ]
  },
  {
   "cell_type": "code",
   "execution_count": null,
   "id": "5243fa86-37ed-4f88-b0f1-e17c2250eaa2",
   "metadata": {
    "tags": []
   },
   "outputs": [],
   "source": [
    "#pprint.pprint(os.listdir('../logs/experiments/runs/'))"
   ]
  },
  {
   "cell_type": "code",
   "execution_count": null,
   "id": "35fb67fa-03cd-42c1-a6b6-feae947ff705",
   "metadata": {
    "tags": []
   },
   "outputs": [],
   "source": [
    "expname = 'sentinel2_patch_swin_04-20_A'\n",
    "\n",
    "# TODO for topview_swin_04-19_C take test predictions from the runs that were trained on this country\n",
    "# Same for topview_swin_04-19_D and streetview_swin_04-19_C"
   ]
  },
  {
   "cell_type": "code",
   "execution_count": null,
   "id": "5728a019-0a64-4340-9966-a0202645ce7f",
   "metadata": {
    "tags": []
   },
   "outputs": [],
   "source": [
    "expdir = f'../logs/experiments/runs/{expname}/'\n",
    "os.listdir(expdir)"
   ]
  },
  {
   "cell_type": "code",
   "execution_count": null,
   "id": "dcd98163-ea71-4f03-ab12-93e2f7bf8b10",
   "metadata": {
    "tags": []
   },
   "outputs": [],
   "source": [
    "all_logdirs = [os.path.join(expdir, dd) for dd in os.listdir(expdir)]"
   ]
  },
  {
   "cell_type": "code",
   "execution_count": null,
   "id": "2355430b-fccc-43e5-ac5b-a6057737d9b7",
   "metadata": {
    "tags": []
   },
   "outputs": [],
   "source": [
    "logdirs = []\n",
    "folds = []\n",
    "\n",
    "fold_key = None\n",
    "\n",
    "for fold in range(20):\n",
    "    for logdir in all_logdirs:\n",
    "        if os.path.exists(os.path.join(logdir, f'test_predictions_fold_{fold}.csv')):\n",
    "            print(fold, logdir)\n",
    "            logdirs.append(logdir)\n",
    "            folds.append(fold)\n",
    "            \n",
    "            with open(os.path.join(logdir, 'config_tree.log')) as f:\n",
    "                config_tree = f.readlines()"
   ]
  },
  {
   "cell_type": "code",
   "execution_count": null,
   "id": "cfdcb321-4d7c-4fea-bac6-f74ff636a645",
   "metadata": {
    "tags": []
   },
   "outputs": [],
   "source": [
    "config_tree"
   ]
  },
  {
   "cell_type": "code",
   "execution_count": null,
   "id": "3364fed5-325f-405c-8c0b-caab275c54d4",
   "metadata": {
    "tags": []
   },
   "outputs": [],
   "source": [
    "for l in config_tree:\n",
    "    if 'fold_key' in l:\n",
    "        fold_key = l.strip().split(' ')[-1]\n",
    "        break\n",
    "print(fold_key)"
   ]
  },
  {
   "cell_type": "code",
   "execution_count": null,
   "id": "3e1f067e-a400-467a-9305-b6e89cf1f3da",
   "metadata": {
    "tags": []
   },
   "outputs": [],
   "source": [
    "all_test_df = []\n",
    "all_valid_df = []\n",
    "\n",
    "all_pids = []\n",
    "\n",
    "for fold, logdir in zip(folds, logdirs):\n",
    "    rnd = {'predicted_labels':'predicted_label'}\n",
    "    \n",
    "    tt = pd.read_csv(os.path.join(logdir, f'test_predictions_fold_{fold}.csv')).rename(columns=rnd)\n",
    "    vv = pd.read_csv(os.path.join(logdir, f'valid_predictions_fold_{fold}.csv')).rename(columns=rnd) \n",
    "    dd = pd.read_csv(f'../data/AI4EO-MapYourCity/splits/{fold_key}/split_valid_{fold}.csv')  \n",
    "    \n",
    "    tt['fold'] = fold\n",
    "    vv['fold'] = fold\n",
    "    \n",
    "    all_pids.append(tt['pid'].sort_values().values)\n",
    "    \n",
    "    print(len(tt['pid']))\n",
    "    all_test_df.append(tt)\n",
    "    all_valid_df.append(pd.merge(vv, dd, on='pid'))"
   ]
  },
  {
   "cell_type": "code",
   "execution_count": null,
   "id": "d69b49dd-a777-4501-9424-852c15b1bcb5",
   "metadata": {
    "tags": []
   },
   "outputs": [],
   "source": [
    "test_df = pd.concat(all_test_df)\n",
    "test_df['predicted_label'] = test_df['predicted_label'].astype(int)\n",
    "test_df.pivot_table(index=['pid', 'fold'])"
   ]
  },
  {
   "cell_type": "code",
   "execution_count": null,
   "id": "2ecd37ec-5ebf-41c2-ac53-38e82f7830c2",
   "metadata": {
    "tags": []
   },
   "outputs": [],
   "source": [
    "test_df.assign(experiment=expname).to_csv(f'../submissions/all_folds/{expname}.csv', index=False)"
   ]
  },
  {
   "cell_type": "code",
   "execution_count": null,
   "id": "31f1d2e1-b1bc-4742-a019-6a5a5a8c7401",
   "metadata": {
    "tags": []
   },
   "outputs": [],
   "source": [
    "def get_best_class(sdf):\n",
    "    '''\n",
    "    Return the majority vote\n",
    "    If tied, choose class closest to the mean\n",
    "    \n",
    "    '''\n",
    "    \n",
    "    spids = []\n",
    "    slbls = []\n",
    "    # mode did not work with groupby\n",
    "    for pid in test_df['pid'].unique():\n",
    "        dd = test_df.loc[test_df['pid'] == pid]\n",
    "        mode = dd['predicted_label'].mode()\n",
    "        mean = dd['predicted_label'].mean()\n",
    "                \n",
    "        if len(mode) > 1:\n",
    "            mode = mode.iloc[np.argmin(np.abs(mode-mean))]\n",
    "        else:\n",
    "            mode = mode.values[0]\n",
    "            \n",
    "        spids.append(pid)\n",
    "        slbls.append(mode)\n",
    "                \n",
    "    return pd.DataFrame(dict(pid=spids, predicted_label=slbls)).sort_values('pid')"
   ]
  },
  {
   "cell_type": "code",
   "execution_count": null,
   "id": "f97c2eed-9ce6-43ab-a3fa-c2ceac19d9a4",
   "metadata": {
    "scrolled": true,
    "tags": []
   },
   "outputs": [],
   "source": [
    "submission_df = get_best_class(test_df)"
   ]
  },
  {
   "cell_type": "code",
   "execution_count": null,
   "id": "cefa23f9-79e1-4423-a0fb-0cd07eb79014",
   "metadata": {
    "tags": []
   },
   "outputs": [],
   "source": [
    "submission_df.to_csv(f'../submissions/{expname}.csv', index=False)\n",
    "submission_df.head()"
   ]
  },
  {
   "cell_type": "code",
   "execution_count": null,
   "id": "62852535-a0f9-4e04-b83f-6fec7256de6f",
   "metadata": {
    "tags": []
   },
   "outputs": [],
   "source": [
    "sns.barplot(submission_df['predicted_label'].value_counts());"
   ]
  },
  {
   "cell_type": "code",
   "execution_count": null,
   "id": "5b803c5d-c302-43b3-b0ce-9963e6e1b570",
   "metadata": {
    "tags": []
   },
   "outputs": [],
   "source": [
    "reference_submissions = ['streetview_swinv2_trafo.csv',\n",
    "                         'topview_swinv2_trafo.csv',\n",
    "                         'merged_topstreet_swin_04-16_C.csv',\n",
    "                         f'{expname}.csv',\n",
    "                        ]"
   ]
  },
  {
   "cell_type": "code",
   "execution_count": null,
   "id": "1679b77f-576c-4efa-85b7-1e00b076bd36",
   "metadata": {
    "tags": []
   },
   "outputs": [],
   "source": [
    "all_submissions = pd.concat([pd.read_csv(os.path.join('../submissions/', f))['predicted_label'].value_counts().to_frame().assign(source=f) \\\n",
    "                             for f in reference_submissions])"
   ]
  },
  {
   "cell_type": "code",
   "execution_count": null,
   "id": "24c5f0f9-8362-424d-81a9-1b5a0dcdfacf",
   "metadata": {
    "tags": []
   },
   "outputs": [],
   "source": [
    "sns.barplot(all_submissions, x='predicted_label', y='count', hue='source');"
   ]
  },
  {
   "cell_type": "code",
   "execution_count": null,
   "id": "6b459915-bfad-4fe1-b030-6ea5db4f9bc1",
   "metadata": {
    "tags": []
   },
   "outputs": [],
   "source": [
    "assert test_df['pid'].value_counts().std() == 0 # all pids in all folds"
   ]
  },
  {
   "cell_type": "code",
   "execution_count": null,
   "id": "cb3a50da-74bb-4abd-abb7-a0bfaf5824b8",
   "metadata": {
    "tags": []
   },
   "outputs": [],
   "source": [
    "valid_df = pd.concat(all_valid_df)\n",
    "valid_df.head()"
   ]
  },
  {
   "cell_type": "markdown",
   "id": "e4202cfc-d40f-4d7d-b84b-a56b1bf6b71c",
   "metadata": {},
   "source": [
    "## Accuracy"
   ]
  },
  {
   "cell_type": "code",
   "execution_count": null,
   "id": "82ffb258-a73a-4041-bcf0-7d445ed900e0",
   "metadata": {
    "tags": []
   },
   "outputs": [],
   "source": [
    "Cn = confusion_matrix(valid_df['label'], valid_df['predicted_label'], normalize='true')\n",
    "C = confusion_matrix(valid_df['label'], valid_df['predicted_label'])"
   ]
  },
  {
   "cell_type": "code",
   "execution_count": null,
   "id": "2fbf4663-b27f-43ed-932d-5c6554bb7ea2",
   "metadata": {
    "tags": []
   },
   "outputs": [],
   "source": [
    "sns.heatmap(C, annot=True, fmt='.0f');"
   ]
  },
  {
   "cell_type": "code",
   "execution_count": null,
   "id": "f04bed07-ec62-4296-b4b3-b35dd7ca0e65",
   "metadata": {
    "tags": []
   },
   "outputs": [],
   "source": [
    "acc = accuracy_score(valid_df['label'].values, valid_df['predicted_label'].values)\n",
    "print(f'Accuracy score: {acc:.4f}')\n",
    "print(f'MAP:            {np.diag(Cn).mean():.4f}')"
   ]
  },
  {
   "cell_type": "code",
   "execution_count": null,
   "id": "d781e381-e6b3-4c99-b565-733df3121945",
   "metadata": {
    "tags": []
   },
   "outputs": [],
   "source": [
    "country_ids = valid_df['country_id'].unique()\n",
    "\n",
    "plot_dfs = []\n",
    "\n",
    "for country in country_ids:\n",
    "    country_df = valid_df.loc[valid_df['country_id'] == country]\n",
    "    cacc = accuracy_score(country_df['label'].values, country_df['predicted_label'].values)\n",
    "    \n",
    "    cmat = confusion_matrix(country_df['label'], country_df['predicted_label'], normalize='true').diagonal()\n",
    "    \n",
    "    plot_dfs.append(pd.DataFrame(dict(country=country, classes=list(range(7)), cmat=cmat)))\n",
    "    \n",
    "    \n",
    "    print(f'Country ID: {country}, MCA = {cacc:.4f}, count = {len(country_df)}')"
   ]
  },
  {
   "cell_type": "code",
   "execution_count": null,
   "id": "1791017b-60b1-479b-a836-7db1f7ca8479",
   "metadata": {
    "tags": []
   },
   "outputs": [],
   "source": [
    "plot_df = pd.concat(plot_dfs)\n",
    "sns.barplot(plot_df, x='classes', y='cmat', hue='country')\n",
    "plt.gca().legend(ncol=2)\n",
    "plt.show()"
   ]
  },
  {
   "cell_type": "code",
   "execution_count": null,
   "id": "016c3fb4-d4e9-4c9a-ac18-9e5a94288dea",
   "metadata": {
    "tags": []
   },
   "outputs": [],
   "source": [
    "folds = valid_df['fold_y'].unique()\n",
    "for fold in folds:\n",
    "    country_df = valid_df.loc[valid_df['fold_y'] == fold]\n",
    "    cacc = accuracy_score(country_df['label'].values, country_df['predicted_label'].values)\n",
    "    \n",
    "    print(f'Fold: {fold}, MCA = {cacc:.4f}, count = {len(country_df)}')"
   ]
  },
  {
   "cell_type": "markdown",
   "id": "94996d44-7d5c-4415-beaf-435b89a8d0be",
   "metadata": {},
   "source": [
    "## Inspect mis-classified samples"
   ]
  },
  {
   "cell_type": "code",
   "execution_count": null,
   "id": "7a893679-477f-4e7f-9bec-c3443bf62828",
   "metadata": {
    "tags": []
   },
   "outputs": [],
   "source": [
    "# Define paths to data\n",
    "\n",
    "# input_path = \"directory with MapYourCity image files\"\n",
    "input_path = \"../data/AI4EO-MapYourCity/v1/building-age-dataset/\"\n",
    "train_path = input_path + \"train/data/\"\n",
    "test_path = input_path + \"test/data/\""
   ]
  },
  {
   "cell_type": "code",
   "execution_count": null,
   "id": "f5228e69-2cb3-4fe9-8719-f0087c93685b",
   "metadata": {},
   "outputs": [],
   "source": [
    "# Choose a building by pid:\n",
    "tclass = 2\n",
    "pclass = 3\n",
    "mismatched_df = valid_df.query('label==@tclass and predicted_label==@pclass')\n",
    "print(f'{len(mismatched_df)} samples were classified as {pclass} but are {tclass}')\n",
    "\n",
    "pid = mismatched_df['pid'].iloc[np.random.randint(len(mismatched_df))]\n",
    "print(valid_df.loc[valid_df['pid'] == pid][['pid', 'country_id', 'city_id']])\n",
    "street = plt.imread(f\"{train_path}{pid}/street.jpg\")\n",
    "orthophoto = plt.imread(f\"{train_path}{pid}/orthophoto.tif\")\n",
    "s2 = rasterio.open(f\"{train_path}{pid}/s2_l2a.tif\").read()\n",
    "s2 = np.transpose(s2,[1,2,0])\n",
    "\n",
    "# Show the 3 modalities - street view, orthophoto and Seninel-2\n",
    "\n",
    "fig, axs = plt.subplots(figsize=(15, 15), nrows=1, ncols = 3)\n",
    "axs = axs.flatten()\n",
    "axs[0].imshow(street)\n",
    "axs[1].imshow(orthophoto)\n",
    "axs[2].imshow(s2[...,[3,2,1]]*3e-4)\n",
    "\n",
    "axs[0].set_title(\"Street\")\n",
    "axs[1].set_title(\"Orthophoto\")\n",
    "axs[2].set_title(\"Sentinel-2-L2A\")\n",
    "\n",
    "plt.show()"
   ]
  },
  {
   "cell_type": "code",
   "execution_count": null,
   "id": "43c55ea4-f932-485e-9831-b815843334e0",
   "metadata": {},
   "outputs": [],
   "source": []
  },
  {
   "cell_type": "markdown",
   "id": "1f8eb076-e6a7-4906-bc3b-793c7cbd73b3",
   "metadata": {},
   "source": [
    "## Merge streetview"
   ]
  },
  {
   "cell_type": "code",
   "execution_count": null,
   "id": "4278ba4c-d653-417a-be94-0e78ebe7b0a3",
   "metadata": {
    "tags": []
   },
   "outputs": [],
   "source": [
    "df1 = pd.read_csv('../submissions/topview_swin_04-19_A.csv').rename(columns={'predicted_label':'topview_label'})\n",
    "df3 = pd.read_csv('../submissions/sentinel2_patch_swin_04-20_A.csv').rename(columns={'predicted_label':'sentinel2_label'})\n",
    "df2 = pd.read_csv('../submissions/streetview_swin_04-19_A.csv').rename(columns={'predicted_label':'streetview_label'})\n",
    "is_valid_streetview = pd.read_csv('valid_streetview.csv')\n",
    "target = '../submissions/merged_topstreet_swin_04-19_A.csv'"
   ]
  },
  {
   "cell_type": "code",
   "execution_count": null,
   "id": "4923e731-b580-4ab0-bc47-bb526c80c881",
   "metadata": {
    "tags": []
   },
   "outputs": [],
   "source": [
    "df2 = df2[is_valid_streetview['is_valid_streetview']]"
   ]
  },
  {
   "cell_type": "code",
   "execution_count": null,
   "id": "c55f46b9-f337-44a3-83c4-78603dd62b1f",
   "metadata": {
    "tags": []
   },
   "outputs": [],
   "source": [
    "df = pd.merge(df3, pd.merge(df1, df2, 'outer'), 'outer')"
   ]
  },
  {
   "cell_type": "code",
   "execution_count": null,
   "id": "0675956a-32ce-439c-8fc9-8326bb3040f9",
   "metadata": {
    "tags": []
   },
   "outputs": [],
   "source": [
    "predicted_label = []\n",
    "for i in range(len(df)):\n",
    "    if np.isnan(df.iloc[i]['streetview_label']) or \\\n",
    "               df.iloc[i]['topview_label'] == df.iloc[i]['streetview_label']:\n",
    "        predicted_label.append(df.iloc[i]['topview_label'])\n",
    "    else:\n",
    "        predicted_label.append(df.iloc[i]['streetview_label'])\n",
    "        "
   ]
  },
  {
   "cell_type": "code",
   "execution_count": null,
   "id": "fecedf05-d6b9-47f5-9395-9d7e94f1c8c8",
   "metadata": {},
   "outputs": [],
   "source": [
    "df['predicted_label'] = np.array(predicted_label).astype(int)\n",
    "df = df.drop(columns=['topview_label', 'streetview_label'])\n",
    "df.to_csv(target, index=False)"
   ]
  },
  {
   "cell_type": "code",
   "execution_count": null,
   "id": "1404f5b8-e26d-4052-b817-f5567809976a",
   "metadata": {
    "tags": []
   },
   "outputs": [],
   "source": [
    "df.head()"
   ]
  },
  {
   "cell_type": "code",
   "execution_count": null,
   "id": "fe44da1f-1aee-43a0-afd2-beb09554fd99",
   "metadata": {
    "tags": []
   },
   "outputs": [],
   "source": [
    "df = df[is_valid_streetview['is_valid_streetview']]"
   ]
  },
  {
   "cell_type": "code",
   "execution_count": null,
   "id": "7e7d4dc4-30c6-4c8c-baf9-49bbe1809b0e",
   "metadata": {
    "tags": []
   },
   "outputs": [],
   "source": [
    "(df.iloc[:,1:].std(axis=1) == 0).sum()"
   ]
  },
  {
   "cell_type": "code",
   "execution_count": null,
   "id": "2c8ac7ab-9170-4638-b391-aa15af9bd671",
   "metadata": {
    "tags": []
   },
   "outputs": [],
   "source": [
    "dissent = df['topview_label'] != df['streetview_label']"
   ]
  },
  {
   "cell_type": "code",
   "execution_count": null,
   "id": "77ad3f5a-c701-41a9-8d98-0c5d77140760",
   "metadata": {
    "tags": []
   },
   "outputs": [],
   "source": [
    "df = df[dissent]"
   ]
  },
  {
   "cell_type": "code",
   "execution_count": null,
   "id": "0806c52a-4ce8-446c-b040-93155a6bff79",
   "metadata": {
    "tags": []
   },
   "outputs": [],
   "source": [
    "s2_vs_top = abs(df['topview_label'] - df['sentinel2_label'])\n",
    "s2_vs_str = abs(df['streetview_label'] - df['sentinel2_label'])"
   ]
  },
  {
   "cell_type": "code",
   "execution_count": null,
   "id": "72ee7183-ff3f-4238-b83b-1b14278d3120",
   "metadata": {
    "tags": []
   },
   "outputs": [],
   "source": [
    "tmp = pd.DataFrame(dict(pid=df.pid.values, s2_vs_top=s2_vs_top.values, s2_vs_str=s2_vs_str))\n",
    "tmpix = np.argmin(tmp.iloc[:,1:].values, axis=1)\n",
    "pid_top = tmp['pid'][tmpix == 0]\n",
    "pid_str = tmp['pid'][tmpix == 1]"
   ]
  },
  {
   "cell_type": "code",
   "execution_count": null,
   "id": "c744f5bb-47df-42d0-8c46-be0e511551bd",
   "metadata": {
    "tags": []
   },
   "outputs": [],
   "source": [
    "len(pid_top), len(pid_str)"
   ]
  },
  {
   "cell_type": "markdown",
   "id": "2f925c07-47c1-488f-96df-74932f168ec2",
   "metadata": {},
   "source": [
    "## Merge streetview with majority vote"
   ]
  },
  {
   "cell_type": "code",
   "execution_count": null,
   "id": "f27ce443-5cdc-47f1-8140-8a74a66cad67",
   "metadata": {
    "tags": []
   },
   "outputs": [],
   "source": [
    "df1 = pd.read_csv('../submissions/all_folds/topview_swinv2_trafo.csv').rename(columns={'predicted_label':'topview_label'})\n",
    "df2 = pd.read_csv('../submissions/all_folds/streetview_swinv2_trafo.csv').rename(columns={'predicted_label':'streetview_label'})\n",
    "target = '../submissions/merged_all-folds_topstreet_swinv2_trafo.csv'"
   ]
  },
  {
   "cell_type": "code",
   "execution_count": null,
   "id": "c9f705ae-de76-4c58-8994-4bb01f859660",
   "metadata": {},
   "outputs": [],
   "source": [
    "merged_submission_df = get_best_class(pd.concat([df1, df2]))"
   ]
  },
  {
   "cell_type": "code",
   "execution_count": null,
   "id": "adaf61ee-c01d-4ad1-97f4-dca701e8df77",
   "metadata": {
    "tags": []
   },
   "outputs": [],
   "source": [
    "merged_submission_df.to_csv(target, index=False)"
   ]
  },
  {
   "cell_type": "code",
   "execution_count": null,
   "id": "f988a3c7-c1ca-4f41-88df-27ad9fe9a548",
   "metadata": {},
   "outputs": [],
   "source": []
  },
  {
   "cell_type": "code",
   "execution_count": null,
   "id": "c2ca75c2-d8a0-41bd-93fb-6fedbc031e50",
   "metadata": {
    "tags": []
   },
   "outputs": [],
   "source": [
    "pids = submission_df['pid'].values\n",
    "tp = '/home/k/k202141/rootgit/AI4EO-MapYourCity/data/AI4EO-MapYourCity/v1/building-age-dataset/test/data/'"
   ]
  },
  {
   "cell_type": "code",
   "execution_count": null,
   "id": "19e7f28d-ebac-4f66-807c-cd06a0e9e7f7",
   "metadata": {
    "tags": []
   },
   "outputs": [],
   "source": [
    "v = [os.path.exists(os.path.join(tp, pid, 'street.jpg')) for pid in pids]"
   ]
  },
  {
   "cell_type": "code",
   "execution_count": null,
   "id": "27b7ef7c-ccb8-44ce-b286-b17da821fc28",
   "metadata": {
    "tags": []
   },
   "outputs": [],
   "source": [
    "pd.DataFrame(dict(pid=pids, is_valid_streetview=v)).to_csv('valid_streetview.csv', index=False)"
   ]
  },
  {
   "cell_type": "code",
   "execution_count": null,
   "id": "7a892491-404b-4c2b-a582-07f617047b2a",
   "metadata": {
    "tags": []
   },
   "outputs": [],
   "source": [
    "submission_df.head()"
   ]
  },
  {
   "cell_type": "code",
   "execution_count": null,
   "id": "ee9815ba-786c-4f62-ad25-ab1787e89105",
   "metadata": {},
   "outputs": [],
   "source": []
  }
 ],
 "metadata": {
  "kernelspec": {
   "display_name": "MapYourCity (AI4EO)",
   "language": "python",
   "name": "map-city"
  },
  "language_info": {
   "codemirror_mode": {
    "name": "ipython",
    "version": 3
   },
   "file_extension": ".py",
   "mimetype": "text/x-python",
   "name": "python",
   "nbconvert_exporter": "python",
   "pygments_lexer": "ipython3",
   "version": "3.10.10"
  }
 },
 "nbformat": 4,
 "nbformat_minor": 5
}

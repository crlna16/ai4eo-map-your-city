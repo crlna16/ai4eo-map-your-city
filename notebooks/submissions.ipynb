{
 "cells": [
  {
   "cell_type": "code",
   "execution_count": null,
   "id": "e2b33726-a376-4dd3-af5b-948e06307467",
   "metadata": {
    "tags": []
   },
   "outputs": [],
   "source": [
    "import pandas as pd\n",
    "import os\n",
    "import glob"
   ]
  },
  {
   "cell_type": "code",
   "execution_count": null,
   "id": "c82d98e8-93bd-4c78-ac56-713e2b859991",
   "metadata": {
    "tags": []
   },
   "outputs": [],
   "source": [
    "from sklearn.metrics import confusion_matrix\n",
    "import seaborn as sns\n",
    "import numpy as np\n",
    "\n",
    "from matplotlib import pyplot as plt\n",
    "import rasterio"
   ]
  },
  {
   "cell_type": "code",
   "execution_count": null,
   "id": "cf75d573-1883-4a3f-b75c-599990885813",
   "metadata": {
    "tags": []
   },
   "outputs": [],
   "source": [
    "import pprint"
   ]
  },
  {
   "cell_type": "code",
   "execution_count": null,
   "id": "5243fa86-37ed-4f88-b0f1-e17c2250eaa2",
   "metadata": {
    "tags": []
   },
   "outputs": [],
   "source": [
    "pprint.pprint(os.listdir('../logs/experiments/runs/'))"
   ]
  },
  {
   "cell_type": "code",
   "execution_count": null,
   "id": "b68bf148-566a-495c-ad26-2aa9bbbe23e4",
   "metadata": {
    "tags": []
   },
   "outputs": [],
   "source": [
    "# TODO\n",
    "# sentinel2_rgb_vit\n",
    "# sentinel2_ndvi_vit\n",
    "# topview_swin\n",
    "#\n",
    "# --> majority vote"
   ]
  },
  {
   "cell_type": "code",
   "execution_count": null,
   "id": "35fb67fa-03cd-42c1-a6b6-feae947ff705",
   "metadata": {
    "tags": []
   },
   "outputs": [],
   "source": [
    "expname = 'sentinel2_ndvi_vit'"
   ]
  },
  {
   "cell_type": "code",
   "execution_count": null,
   "id": "5728a019-0a64-4340-9966-a0202645ce7f",
   "metadata": {
    "tags": []
   },
   "outputs": [],
   "source": [
    "expdir = f'../logs/experiments/runs/{expname}/'\n",
    "os.listdir(expdir)"
   ]
  },
  {
   "cell_type": "code",
   "execution_count": null,
   "id": "dcd98163-ea71-4f03-ab12-93e2f7bf8b10",
   "metadata": {
    "tags": []
   },
   "outputs": [],
   "source": [
    "all_logdirs = [os.path.join(expdir, dd) for dd in os.listdir(expdir)]"
   ]
  },
  {
   "cell_type": "code",
   "execution_count": null,
   "id": "2355430b-fccc-43e5-ac5b-a6057737d9b7",
   "metadata": {
    "tags": []
   },
   "outputs": [],
   "source": [
    "logdirs = []\n",
    "\n",
    "for fold in range(5):\n",
    "    for logdir in all_logdirs:\n",
    "        if os.path.exists(os.path.join(logdir, f'test_predictions_fold_{fold}.csv')):\n",
    "            print(fold, logdir)\n",
    "            logdirs.append(logdir)"
   ]
  },
  {
   "cell_type": "code",
   "execution_count": null,
   "id": "3e1f067e-a400-467a-9305-b6e89cf1f3da",
   "metadata": {
    "tags": []
   },
   "outputs": [],
   "source": [
    "all_test_df = []\n",
    "all_valid_df = []\n",
    "\n",
    "all_pids = []\n",
    "\n",
    "for fold, logdir in enumerate(logdirs):\n",
    "    rnd = {'predicted_labels':'predicted_label'}\n",
    "    \n",
    "    tt = pd.read_csv(os.path.join(logdir, f'test_predictions_fold_{fold}.csv')).rename(columns=rnd)\n",
    "    vv = pd.read_csv(os.path.join(logdir, f'valid_predictions_fold_{fold}.csv')).rename(columns=rnd) \n",
    "    dd = pd.read_csv(f'../data/AI4EO-MapYourCity/splits/split_valid_{fold}.csv')  \n",
    "    \n",
    "    tt['fold'] = fold\n",
    "    vv['fold'] = fold\n",
    "    \n",
    "    all_pids.append(tt['pid'].sort_values().values)\n",
    "    \n",
    "    print(len(tt['pid']))\n",
    "    all_test_df.append(tt)\n",
    "    all_valid_df.append(pd.merge(vv, dd, on='pid'))"
   ]
  },
  {
   "cell_type": "code",
   "execution_count": null,
   "id": "d69b49dd-a777-4501-9424-852c15b1bcb5",
   "metadata": {
    "tags": []
   },
   "outputs": [],
   "source": [
    "test_df = pd.concat(all_test_df)\n",
    "test_df['predicted_label'] = test_df['predicted_label'].astype(int)\n",
    "test_df.pivot_table(index=['pid', 'fold'])"
   ]
  },
  {
   "cell_type": "code",
   "execution_count": null,
   "id": "31f1d2e1-b1bc-4742-a019-6a5a5a8c7401",
   "metadata": {
    "tags": []
   },
   "outputs": [],
   "source": [
    "def get_best_class(sdf):\n",
    "    '''\n",
    "    Return the majority vote\n",
    "    If tied, choose class closest to the mean\n",
    "    \n",
    "    '''\n",
    "    \n",
    "    spids = []\n",
    "    slbls = []\n",
    "    # mode did not work with groupby\n",
    "    for pid in test_df['pid'].unique():\n",
    "        dd = test_df.loc[test_df['pid'] == pid]\n",
    "        mode = dd['predicted_label'].mode()\n",
    "        mean = dd['predicted_label'].mean()\n",
    "                \n",
    "        if len(mode) > 1:\n",
    "            mode = mode.iloc[np.argmin(np.abs(mode-mean))]\n",
    "        else:\n",
    "            mode = mode.values[0]\n",
    "            \n",
    "        spids.append(pid)\n",
    "        slbls.append(mode)\n",
    "                \n",
    "    return pd.DataFrame(dict(pid=spids, predicted_label=slbls)).sort_values('pid')"
   ]
  },
  {
   "cell_type": "code",
   "execution_count": null,
   "id": "f97c2eed-9ce6-43ab-a3fa-c2ceac19d9a4",
   "metadata": {
    "scrolled": true,
    "tags": []
   },
   "outputs": [],
   "source": [
    "submission_df = get_best_class(test_df)"
   ]
  },
  {
   "cell_type": "code",
   "execution_count": null,
   "id": "cefa23f9-79e1-4423-a0fb-0cd07eb79014",
   "metadata": {
    "tags": []
   },
   "outputs": [],
   "source": [
    "#submission_df = test_df.groupby('pid')['predicted_label'].mean().to_frame().reset_index()\n",
    "#submission_df['predicted_label'] = submission_df['predicted_label'].astype(int)\n",
    "submission_df.to_csv(f'../submissions/{expname}.csv', index=False)\n",
    "submission_df.head()"
   ]
  },
  {
   "cell_type": "code",
   "execution_count": null,
   "id": "62852535-a0f9-4e04-b83f-6fec7256de6f",
   "metadata": {
    "tags": []
   },
   "outputs": [],
   "source": [
    "sns.barplot(submission_df['predicted_label'].value_counts())"
   ]
  },
  {
   "cell_type": "code",
   "execution_count": null,
   "id": "1679b77f-576c-4efa-85b7-1e00b076bd36",
   "metadata": {
    "tags": []
   },
   "outputs": [],
   "source": [
    "all_submissions = pd.concat([pd.read_csv(os.path.join('../submissions/', f))['predicted_label'].value_counts().to_frame().assign(source=f) \\\n",
    "                             for f in os.listdir('../submissions/') if f != 'dummy.csv'])"
   ]
  },
  {
   "cell_type": "code",
   "execution_count": null,
   "id": "24c5f0f9-8362-424d-81a9-1b5a0dcdfacf",
   "metadata": {
    "tags": []
   },
   "outputs": [],
   "source": [
    "sns.barplot(all_submissions, x='predicted_label', y='count', hue='source')"
   ]
  },
  {
   "cell_type": "code",
   "execution_count": null,
   "id": "34585c83-ac39-498b-833f-266ba9563b98",
   "metadata": {
    "tags": []
   },
   "outputs": [],
   "source": [
    "test_df['fold'].value_counts()"
   ]
  },
  {
   "cell_type": "code",
   "execution_count": null,
   "id": "6b459915-bfad-4fe1-b030-6ea5db4f9bc1",
   "metadata": {
    "tags": []
   },
   "outputs": [],
   "source": [
    "test_df['pid'].value_counts().std()"
   ]
  },
  {
   "cell_type": "code",
   "execution_count": null,
   "id": "cb3a50da-74bb-4abd-abb7-a0bfaf5824b8",
   "metadata": {
    "tags": []
   },
   "outputs": [],
   "source": [
    "valid_df = pd.concat(all_valid_df)\n",
    "valid_df"
   ]
  },
  {
   "cell_type": "code",
   "execution_count": null,
   "id": "82ffb258-a73a-4041-bcf0-7d445ed900e0",
   "metadata": {
    "tags": []
   },
   "outputs": [],
   "source": [
    "Cn = confusion_matrix(valid_df['label'], valid_df['predicted_label'], normalize='true')\n",
    "C = confusion_matrix(valid_df['label'], valid_df['predicted_label'])"
   ]
  },
  {
   "cell_type": "code",
   "execution_count": null,
   "id": "2fbf4663-b27f-43ed-932d-5c6554bb7ea2",
   "metadata": {
    "tags": []
   },
   "outputs": [],
   "source": [
    "sns.heatmap(C, annot=True, fmt='.0f')"
   ]
  },
  {
   "cell_type": "code",
   "execution_count": null,
   "id": "86c1616a-a51b-40ad-a6e0-b8990a3fb528",
   "metadata": {
    "tags": []
   },
   "outputs": [],
   "source": [
    "valid_df.query('label==6 and predicted_label==6')"
   ]
  },
  {
   "cell_type": "code",
   "execution_count": null,
   "id": "7a893679-477f-4e7f-9bec-c3443bf62828",
   "metadata": {
    "tags": []
   },
   "outputs": [],
   "source": [
    "# Define paths to data\n",
    "\n",
    "# input_path = \"directory with MapYourCity image files\"\n",
    "input_path = \"../data/AI4EO-MapYourCity/v1/building-age-dataset/\"\n",
    "train_path = input_path + \"train/data/\"\n",
    "test_path = input_path + \"test/data/\""
   ]
  },
  {
   "cell_type": "code",
   "execution_count": null,
   "id": "d231e35e-30b9-4cd1-ad12-afcb791d862d",
   "metadata": {},
   "outputs": [],
   "source": [
    "# Choose a building by pid:\n",
    "pid = 'xas3mgbj2b'\n",
    "\n",
    "street = plt.imread(f\"{train_path}{pid}/street.jpg\")\n",
    "orthophoto = plt.imread(f\"{train_path}{pid}/orthophoto.tif\")\n",
    "s2 = rasterio.open(f\"{train_path}{pid}/s2_l2a.tif\").read()\n",
    "s2 = np.transpose(s2,[1,2,0])\n",
    "\n",
    "# calculate normalized indices\n",
    "ndvi = (s2[:,:,7] - s2[:,:,3]) / (s2[:,:,7] + s2[:,:,3])\n",
    "\n",
    "# Default rendering is Normalized Difference Built-Up Index computed as SWIR(Band11)-NIR(Band8)/ SWIR(Band11)+NIR(Band8)\n",
    "ndbi = (s2[:,:,10] - s2[:,:,7]) / (s2[:,:,10] + s2[:,:,7])\n",
    "\n",
    "# water index\n",
    "# Sentinel-2 NDWI = (B03 - B08) / (B03 + B08)\n",
    "ndwi = (s2[:,:,2] - s2[:,:,7]) / (s2[:,:,2] + s2[:,:,7])\n",
    "\n",
    "print(\"Image dimensions:\")\n",
    "print(f\"street view: {street.shape}\" )\n",
    "print(f\"orthophoto: {orthophoto.shape}\" )\n",
    "print(f\"Sentinel 2: {s2.shape}\" )\n",
    "print()\n",
    "print(f\"Label:\\n {train_df.loc[train_df['pid']==pid][['pid', 'label']]}\")"
   ]
  },
  {
   "cell_type": "code",
   "execution_count": null,
   "id": "fce9d4fb-4299-433f-986c-965f3b756fdb",
   "metadata": {},
   "outputs": [],
   "source": [
    "# Show the 3 modalities - street view, orthophoto and Seninel-2\n",
    "\n",
    "fig, axs = plt.subplots(figsize=(15, 15), nrows=2, ncols = 3)\n",
    "axs = axs.flatten()\n",
    "axs[0].imshow(street)\n",
    "axs[1].imshow(orthophoto)\n",
    "axs[2].imshow(s2[...,[3,2,1]]*3e-4)\n",
    "axs[3].imshow(ndvi, cmap=\"PiYG\", vmin=-1, vmax=+1)\n",
    "axs[4].imshow(ndbi, cmap=\"BuGn\", vmin=-1, vmax=+1)\n",
    "axs[5].imshow(ndwi, cmap=\"Blues\", vmin=-1, vmax=+1)\n",
    "\n",
    "axs[0].set_title(\"Street\")\n",
    "axs[1].set_title(\"Orthophoto\")\n",
    "axs[2].set_title(\"Sentinel-2-L2A\");\n",
    "axs[3].set_title(\"Sentinel NDVI\")\n",
    "axs[4].set_title(\"Sentinel NDBI\")\n",
    "axs[5].set_title(\"Sentinel NDWI\")\n",
    "\n",
    "plt.show()"
   ]
  },
  {
   "cell_type": "code",
   "execution_count": null,
   "id": "e96d1480-9b8b-448e-844e-655949c8dc1e",
   "metadata": {},
   "outputs": [],
   "source": [
    "# Relative position and size of orthophoto and Sentinel-2 images, with building location (blue dot)\n",
    "\n",
    "plt.figure(figsize=(7,7))\n",
    "plt.imshow(s2[...,[3,2,1]]*3e-4, extent=(-320, 320, -320, 320))\n",
    "plt.imshow(orthophoto, extent=(-128, 128, -128, 128))\n",
    "plt.plot(0,0, \"b\", marker = \"x\", markersize = 8 ) # building location\n",
    "plt.title(\" Orthophoto and Sentinel-2 images, with building location in the centre (blue dot)\")\n",
    "plt.xlabel(\"distance (m)\")\n",
    "plt.ylabel(\"distance (m)\")\n",
    "plt.plot();"
   ]
  },
  {
   "cell_type": "markdown",
   "id": "67ed963b-d9c9-45c2-8498-bc7137fd2b46",
   "metadata": {},
   "source": [
    "## Accuracy"
   ]
  },
  {
   "cell_type": "code",
   "execution_count": null,
   "id": "3ba566b3-45fc-4361-bfe6-9a5c6b28cce0",
   "metadata": {
    "tags": []
   },
   "outputs": [],
   "source": [
    "np.diag(Cn).mean()"
   ]
  },
  {
   "cell_type": "code",
   "execution_count": null,
   "id": "a212451b-104b-4428-ae61-3ad2eebcd1af",
   "metadata": {
    "tags": []
   },
   "outputs": [],
   "source": [
    "from torchmetrics import Accuracy\n",
    "import torch"
   ]
  },
  {
   "cell_type": "code",
   "execution_count": null,
   "id": "2ad9c1a8-4ba9-4f30-beb8-02b7558967e0",
   "metadata": {
    "tags": []
   },
   "outputs": [],
   "source": [
    "acc = Accuracy(task='multiclass', num_classes=7)"
   ]
  },
  {
   "cell_type": "code",
   "execution_count": null,
   "id": "d444cb7d-ea49-4a64-9b5c-9105916f58e4",
   "metadata": {
    "tags": []
   },
   "outputs": [],
   "source": [
    "acc(torch.Tensor(valid_df['predicted_label'].values), torch.Tensor(valid_df['label'].values))"
   ]
  },
  {
   "cell_type": "code",
   "execution_count": null,
   "id": "a8ba5cf7-546e-4eff-9c83-70ef9cb5218a",
   "metadata": {},
   "outputs": [],
   "source": []
  },
  {
   "cell_type": "code",
   "execution_count": null,
   "id": "a28bcd05-a7a6-46d1-be08-09fb75f12097",
   "metadata": {
    "tags": []
   },
   "outputs": [],
   "source": [
    "ndvi.shape"
   ]
  },
  {
   "cell_type": "code",
   "execution_count": null,
   "id": "d7d06d39-e464-4489-a478-3217a01b0db4",
   "metadata": {
    "tags": []
   },
   "outputs": [],
   "source": [
    "np.dstack([ndvi, ndwi, ndbi]).shape"
   ]
  },
  {
   "cell_type": "code",
   "execution_count": null,
   "id": "6848a01e-a5fb-4418-8224-80f7633477e7",
   "metadata": {
    "tags": []
   },
   "outputs": [],
   "source": [
    "s2[...,[3,2,1]].shape"
   ]
  },
  {
   "cell_type": "code",
   "execution_count": null,
   "id": "e3ff0eb7-8b88-459e-91b4-002b7b075b03",
   "metadata": {},
   "outputs": [],
   "source": []
  }
 ],
 "metadata": {
  "kernelspec": {
   "display_name": "MapYourCity (AI4EO)",
   "language": "python",
   "name": "map-city"
  },
  "language_info": {
   "codemirror_mode": {
    "name": "ipython",
    "version": 3
   },
   "file_extension": ".py",
   "mimetype": "text/x-python",
   "name": "python",
   "nbconvert_exporter": "python",
   "pygments_lexer": "ipython3",
   "version": "3.10.10"
  }
 },
 "nbformat": 4,
 "nbformat_minor": 5
}

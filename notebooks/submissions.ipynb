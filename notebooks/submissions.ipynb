{
 "cells": [
  {
   "cell_type": "code",
   "execution_count": null,
   "id": "c2207280-0c00-4b06-9209-63efc98f606f",
   "metadata": {
    "tags": []
   },
   "outputs": [],
   "source": [
    "import pandas as pd\n",
    "import os\n",
    "import glob"
   ]
  },
  {
   "cell_type": "code",
   "execution_count": null,
   "id": "c82d98e8-93bd-4c78-ac56-713e2b859991",
   "metadata": {
    "tags": []
   },
   "outputs": [],
   "source": [
    "from sklearn.metrics import confusion_matrix, accuracy_score\n",
    "import seaborn as sns\n",
    "import numpy as np\n",
    "\n",
    "from matplotlib import pyplot as plt\n",
    "import rasterio"
   ]
  },
  {
   "cell_type": "code",
   "execution_count": null,
   "id": "35fb67fa-03cd-42c1-a6b6-feae947ff705",
   "metadata": {
    "tags": []
   },
   "outputs": [],
   "source": [
    "expname = 'multimodal_swin_05-03_C'"
   ]
  },
  {
   "cell_type": "code",
   "execution_count": null,
   "id": "5728a019-0a64-4340-9966-a0202645ce7f",
   "metadata": {
    "tags": []
   },
   "outputs": [],
   "source": [
    "#expdir = f'../logs/experiments/runs/{expname}/'\n",
    "expdir = f'../logs/evaluations/runs/{expname}/'\n",
    "os.listdir(expdir)"
   ]
  },
  {
   "cell_type": "code",
   "execution_count": null,
   "id": "dcd98163-ea71-4f03-ab12-93e2f7bf8b10",
   "metadata": {
    "tags": []
   },
   "outputs": [],
   "source": [
    "all_logdirs = [os.path.join(expdir, dd) for dd in os.listdir(expdir)]"
   ]
  },
  {
   "cell_type": "code",
   "execution_count": null,
   "id": "2355430b-fccc-43e5-ac5b-a6057737d9b7",
   "metadata": {
    "tags": []
   },
   "outputs": [],
   "source": [
    "logdirs = []\n",
    "folds = []\n",
    "\n",
    "fold_key = None\n",
    "\n",
    "for i, logdir in enumerate(all_logdirs):\n",
    "    if os.path.exists(os.path.join(logdir, f'test_predictions.csv')):\n",
    "        logdirs.append(logdir)\n",
    "        folds.append(i)\n",
    "        print(i)\n",
    "            \n",
    "        with open(os.path.join(logdir, 'config_tree.log')) as f:\n",
    "            config_tree = f.readlines()"
   ]
  },
  {
   "cell_type": "code",
   "execution_count": null,
   "id": "cfdcb321-4d7c-4fea-bac6-f74ff636a645",
   "metadata": {
    "tags": []
   },
   "outputs": [],
   "source": [
    "config_tree"
   ]
  },
  {
   "cell_type": "code",
   "execution_count": null,
   "id": "3364fed5-325f-405c-8c0b-caab275c54d4",
   "metadata": {
    "tags": []
   },
   "outputs": [],
   "source": [
    "for l in config_tree:\n",
    "    if 'fold_key' in l:\n",
    "        fold_key = l.strip().split(' ')[-1]\n",
    "    if 'jpg' in l:\n",
    "        img_file = l.strip().split(' ')[-1]\n",
    "print(fold_key)\n",
    "print(img_file)"
   ]
  },
  {
   "cell_type": "code",
   "execution_count": null,
   "id": "eb58a70f-b5e2-455b-8adb-3a28186618cf",
   "metadata": {
    "tags": []
   },
   "outputs": [],
   "source": [
    "test_set = pd.read_csv('../data/AI4EO-MapYourCity/v1/building-age-dataset/test/test-set.csv')\n",
    "test_set['country_id'].value_counts()"
   ]
  },
  {
   "cell_type": "code",
   "execution_count": null,
   "id": "45084482-d516-473f-89e9-dc28d58efac7",
   "metadata": {
    "tags": []
   },
   "outputs": [],
   "source": [
    "countries_fold = {'0':'QCD', '1':'QCD', '2':'QCD', '3':'QCD', '4':'QCD',\n",
    "                  '5':'PNN', '6':'PNN', '7':'PNN', '8':'PNN', '9':'PNN',\n",
    "                  '10':'HUN', '11':'HUN', '12':'HUN', '13':'HUN', '14':'HUN',\n",
    "                  '15':'FMW', '16':'FMW', '17':'FMW', '18':'FMW', '19':'FMW'\n",
    "                 }"
   ]
  },
  {
   "cell_type": "code",
   "execution_count": null,
   "id": "3e1f067e-a400-467a-9305-b6e89cf1f3da",
   "metadata": {
    "tags": []
   },
   "outputs": [],
   "source": [
    "all_test_df = []\n",
    "all_valid_df = []\n",
    "\n",
    "all_pids = []\n",
    "\n",
    "for fold, logdir in zip(folds, logdirs):\n",
    "    rnd = {'predicted_labels':'predicted_label'}\n",
    "    \n",
    "    tt = pd.read_csv(os.path.join(logdir, f'test_predictions.csv')).rename(columns=rnd)\n",
    "    vv = pd.read_csv(os.path.join(logdir, f'dev_predictions.csv')).rename(columns=rnd) \n",
    "    dd = pd.read_csv(f'../data/AI4EO-MapYourCity/splits/dev-set.csv') \n",
    "    \n",
    "    # restrict to single country if trained like thid\n",
    "    if fold_key == 'use_only_one_country_5-fold':\n",
    "        print('Use only test set from country', countries_fold[str(fold)])\n",
    "        country_pids = test_set[test_set['country_id'] == countries_fold[str(fold)]]['pid'].values\n",
    "        print(len(country_pids), ' samples')\n",
    "        ix = np.zeros(len(tt['pid']))\n",
    "        for i, pid in enumerate(tt['pid']):\n",
    "            if pid in country_pids:\n",
    "                ix[i] = 1.\n",
    "                \n",
    "        tt = tt[ix.astype(bool)]\n",
    "    \n",
    "    tt['fold'] = fold\n",
    "    vv['fold'] = fold\n",
    "    \n",
    "    all_pids.append(tt['pid'].sort_values().values)\n",
    "    \n",
    "    print(len(tt['pid']), 'samples attached to test set')\n",
    "    all_test_df.append(tt)\n",
    "    all_valid_df.append(pd.merge(vv, dd, on='pid'))"
   ]
  },
  {
   "cell_type": "code",
   "execution_count": null,
   "id": "d69b49dd-a777-4501-9424-852c15b1bcb5",
   "metadata": {
    "tags": []
   },
   "outputs": [],
   "source": [
    "test_df = pd.concat(all_test_df)\n",
    "test_df['predicted_label'] = test_df['predicted_label'].astype(int)\n",
    "test_df.pivot_table(index=['pid', 'fold'])"
   ]
  },
  {
   "cell_type": "code",
   "execution_count": null,
   "id": "2ecd37ec-5ebf-41c2-ac53-38e82f7830c2",
   "metadata": {
    "tags": []
   },
   "outputs": [],
   "source": [
    "test_df.assign(experiment=expname).to_csv(f'../submissions/all_folds/{expname}.csv', index=False)"
   ]
  },
  {
   "cell_type": "code",
   "execution_count": null,
   "id": "31f1d2e1-b1bc-4742-a019-6a5a5a8c7401",
   "metadata": {
    "tags": []
   },
   "outputs": [],
   "source": [
    "def get_best_class(sdf):\n",
    "    '''\n",
    "    Return the majority vote\n",
    "    If tied, choose class closest to the mean\n",
    "    \n",
    "    '''\n",
    "    \n",
    "    spids = []\n",
    "    slbls = []\n",
    "    # mode did not work with groupby\n",
    "    for pid in sdf['pid'].unique():\n",
    "        dd = sdf.loc[sdf['pid'] == pid]\n",
    "        mode = dd['predicted_label'].mode()\n",
    "        mean = dd['predicted_label'].mean()\n",
    "                        \n",
    "        if len(mode) > 1:\n",
    "            mode = mode.iloc[np.argmin(np.abs(mode-mean))]\n",
    "        else:\n",
    "            mode = mode.values[0]\n",
    "            \n",
    "        spids.append(pid)\n",
    "        slbls.append(mode)\n",
    "                \n",
    "    return pd.DataFrame(dict(pid=spids, predicted_label=slbls)).sort_values('pid')"
   ]
  },
  {
   "cell_type": "code",
   "execution_count": null,
   "id": "f97c2eed-9ce6-43ab-a3fa-c2ceac19d9a4",
   "metadata": {
    "scrolled": true,
    "tags": []
   },
   "outputs": [],
   "source": [
    "submission_df = get_best_class(test_df)"
   ]
  },
  {
   "cell_type": "code",
   "execution_count": null,
   "id": "cefa23f9-79e1-4423-a0fb-0cd07eb79014",
   "metadata": {
    "tags": []
   },
   "outputs": [],
   "source": [
    "submission_df.to_csv(f'../submissions/{expname}.csv', index=False)\n",
    "submission_df.head(40)"
   ]
  },
  {
   "cell_type": "code",
   "execution_count": null,
   "id": "62852535-a0f9-4e04-b83f-6fec7256de6f",
   "metadata": {
    "tags": []
   },
   "outputs": [],
   "source": [
    "sns.barplot(submission_df['predicted_label'].value_counts().to_frame().reset_index(),\n",
    "            x='predicted_label', y='count'\n",
    "           );"
   ]
  },
  {
   "cell_type": "code",
   "execution_count": null,
   "id": "5b803c5d-c302-43b3-b0ce-9963e6e1b570",
   "metadata": {
    "tags": []
   },
   "outputs": [],
   "source": [
    "reference_submissions = ['streetview_swinv2_trafo.csv',\n",
    "                         'topview_swinv2_trafo.csv',\n",
    "                         'merged_topstreet_swin_04-16_C.csv',\n",
    "                         'topview_street_sentinel2_04-23_B.csv',\n",
    "                         f'{expname}.csv',\n",
    "                        ]"
   ]
  },
  {
   "cell_type": "code",
   "execution_count": null,
   "id": "1679b77f-576c-4efa-85b7-1e00b076bd36",
   "metadata": {
    "tags": []
   },
   "outputs": [],
   "source": [
    "all_submissions = pd.concat([pd.read_csv(os.path.join('../submissions/', f))['predicted_label'].value_counts().to_frame().assign(source=f) \\\n",
    "                             for f in reference_submissions]).reset_index()"
   ]
  },
  {
   "cell_type": "code",
   "execution_count": null,
   "id": "24c5f0f9-8362-424d-81a9-1b5a0dcdfacf",
   "metadata": {
    "tags": []
   },
   "outputs": [],
   "source": [
    "sns.barplot(all_submissions, x='predicted_label', y='count', hue='source');"
   ]
  },
  {
   "cell_type": "code",
   "execution_count": null,
   "id": "1ddba8fa-bba6-4254-9bea-996f78dcb87d",
   "metadata": {
    "tags": []
   },
   "outputs": [],
   "source": [
    "all_valid_df[1]"
   ]
  },
  {
   "cell_type": "code",
   "execution_count": null,
   "id": "cb3a50da-74bb-4abd-abb7-a0bfaf5824b8",
   "metadata": {
    "tags": []
   },
   "outputs": [],
   "source": [
    "valid_df = pd.concat(all_valid_df)\n",
    "valid_df.head()"
   ]
  },
  {
   "cell_type": "code",
   "execution_count": null,
   "id": "681233dc-c3af-406b-a782-ae4df8d97daa",
   "metadata": {
    "tags": []
   },
   "outputs": [],
   "source": [
    "dev_df = get_best_class(valid_df)\n",
    "dev_df"
   ]
  },
  {
   "cell_type": "code",
   "execution_count": null,
   "id": "5c5bc66a-f26f-4b64-b777-53f68fdf254b",
   "metadata": {
    "tags": []
   },
   "outputs": [],
   "source": [
    "dev_df = pd.merge(dev_df, valid_df.drop_duplicates('pid').drop(columns='predicted_label'), on=\"pid\", how=\"left\")"
   ]
  },
  {
   "cell_type": "markdown",
   "id": "e4202cfc-d40f-4d7d-b84b-a56b1bf6b71c",
   "metadata": {},
   "source": [
    "## Accuracy"
   ]
  },
  {
   "cell_type": "code",
   "execution_count": null,
   "id": "82ffb258-a73a-4041-bcf0-7d445ed900e0",
   "metadata": {
    "tags": []
   },
   "outputs": [],
   "source": [
    "Cn = confusion_matrix(dev_df['label'], dev_df['predicted_label'], normalize='true')\n",
    "C = confusion_matrix(dev_df['label'], dev_df['predicted_label'])"
   ]
  },
  {
   "cell_type": "code",
   "execution_count": null,
   "id": "2fbf4663-b27f-43ed-932d-5c6554bb7ea2",
   "metadata": {
    "tags": []
   },
   "outputs": [],
   "source": [
    "sns.heatmap(C, annot=True, fmt='.0f');\n",
    "plt.gca().set_ylabel('True class')\n",
    "plt.gca().set_xlabel('Predicted class');"
   ]
  },
  {
   "cell_type": "code",
   "execution_count": null,
   "id": "f04bed07-ec62-4296-b4b3-b35dd7ca0e65",
   "metadata": {
    "tags": []
   },
   "outputs": [],
   "source": [
    "acc = accuracy_score(valid_df['label'].values, valid_df['predicted_label'].values)\n",
    "print(f'Accuracy score: {acc:.4f}')\n",
    "print(f'MAP:            {np.diag(Cn).mean():.4f}')"
   ]
  },
  {
   "cell_type": "code",
   "execution_count": null,
   "id": "d781e381-e6b3-4c99-b565-733df3121945",
   "metadata": {
    "tags": []
   },
   "outputs": [],
   "source": [
    "country_ids = valid_df['country_id'].unique()\n",
    "\n",
    "plot_dfs = []\n",
    "\n",
    "for country in country_ids:\n",
    "    country_df = valid_df.loc[valid_df['country_id'] == country]\n",
    "    cacc = accuracy_score(country_df['label'].values, country_df['predicted_label'].values)\n",
    "    \n",
    "    cmat = confusion_matrix(country_df['label'], country_df['predicted_label'], normalize='true').diagonal()\n",
    "    \n",
    "    plot_dfs.append(pd.DataFrame(dict(country=country, classes=list(range(7)), cmat=cmat)))\n",
    "    \n",
    "    \n",
    "    print(f'Country ID: {country}, MCA = {cacc:.4f}, count = {len(country_df)}')"
   ]
  },
  {
   "cell_type": "code",
   "execution_count": null,
   "id": "016c3fb4-d4e9-4c9a-ac18-9e5a94288dea",
   "metadata": {
    "tags": []
   },
   "outputs": [],
   "source": [
    "folds = valid_df['fold'].unique()\n",
    "for fold in folds:\n",
    "    country_df = valid_df.loc[valid_df['fold'] == fold]\n",
    "    cacc = accuracy_score(country_df['label'].values, country_df['predicted_label'].values)\n",
    "    \n",
    "    print(f'Fold: {fold}, MCA = {cacc:.4f}, count = {len(country_df)}')"
   ]
  },
  {
   "cell_type": "markdown",
   "id": "94996d44-7d5c-4415-beaf-435b89a8d0be",
   "metadata": {},
   "source": [
    "## Inspect mis-classified samples"
   ]
  },
  {
   "cell_type": "code",
   "execution_count": null,
   "id": "68f34f1e-79ce-4625-afc2-16f2efcce915",
   "metadata": {
    "tags": []
   },
   "outputs": [],
   "source": [
    "def inspect_misclassified(tclass, pclass, country_id=None):\n",
    "    '''\n",
    "    Pick a random misclassified sample and display\n",
    "    '''\n",
    "    \n",
    "    input_path = \"../data/AI4EO-MapYourCity/v1/building-age-dataset/\"\n",
    "    train_path = input_path + \"train/data/\"\n",
    "    \n",
    "    # Choose a building by pid:\n",
    "    if country_id is None:\n",
    "        mismatched_df = dev_df.query('label==@tclass and predicted_label==@pclass')\n",
    "    else:\n",
    "        mismatched_df = dev_df.query('label==@tclass and predicted_label==@pclass and country_id==@country_id')\n",
    "    print(f'{len(mismatched_df)} samples were classified as {pclass} but are {tclass}')\n",
    "\n",
    "    pid = mismatched_df['pid'].iloc[np.random.randint(len(mismatched_df))]\n",
    "\n",
    "    print(dev_df.loc[dev_df['pid'] == pid])\n",
    "    print('*'*5)\n",
    "    print(valid_df.loc[valid_df['pid'] == pid])\n",
    "    street = plt.imread(f\"{train_path}{pid}/street.jpg\")\n",
    "    streetb = plt.imread(f\"{train_path}{pid}/street_segmbox.jpg\")\n",
    "    orthophoto = plt.imread(f\"{train_path}{pid}/orthophoto.tif\")\n",
    "    s2 = rasterio.open(f\"{train_path}{pid}/s2_l2a.tif\").read()\n",
    "    s2 = np.transpose(s2,[1,2,0])\n",
    "\n",
    "    # Show the 3 modalities - street view, orthophoto and Seninel-2\n",
    "\n",
    "    fig, axs = plt.subplots(figsize=(15, 15), nrows=1, ncols = 4)\n",
    "    axs = axs.flatten()\n",
    "    axs[0].imshow(street)\n",
    "    axs[1].imshow(streetb)\n",
    "    axs[2].imshow(orthophoto)\n",
    "    axs[3].imshow(s2[...,[3,2,1]]*3e-4)\n",
    "\n",
    "    axs[0].set_title(\"Street\")\n",
    "    axs[1].set_title(\"Street - BB\")\n",
    "    axs[2].set_title(\"Orthophoto\")\n",
    "    axs[3].set_title(\"Sentinel-2-L2A\")\n",
    "\n",
    "    plt.show()\n",
    "    "
   ]
  },
  {
   "cell_type": "code",
   "execution_count": null,
   "id": "f5228e69-2cb3-4fe9-8719-f0087c93685b",
   "metadata": {},
   "outputs": [],
   "source": [
    "inspect_misclassified(0,1,)"
   ]
  },
  {
   "cell_type": "code",
   "execution_count": null,
   "id": "556f6b5a-2af1-4b55-a1db-4d10f22487ee",
   "metadata": {},
   "outputs": [],
   "source": []
  }
 ],
 "metadata": {
  "kernelspec": {
   "display_name": "MapYourCity (AI4EO)",
   "language": "python",
   "name": "map-city"
  },
  "language_info": {
   "codemirror_mode": {
    "name": "ipython",
    "version": 3
   },
   "file_extension": ".py",
   "mimetype": "text/x-python",
   "name": "python",
   "nbconvert_exporter": "python",
   "pygments_lexer": "ipython3",
   "version": "3.10.10"
  }
 },
 "nbformat": 4,
 "nbformat_minor": 5
}

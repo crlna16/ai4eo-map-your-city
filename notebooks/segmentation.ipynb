{
 "cells": [
  {
   "cell_type": "code",
   "execution_count": null,
   "id": "b4778c52-0658-4bcd-a085-8b88aad2597c",
   "metadata": {
    "tags": []
   },
   "outputs": [],
   "source": [
    "from matplotlib import pyplot as plt\n",
    "import os\n",
    "import pandas as pd\n",
    "import numpy as np\n",
    "import seaborn as sns\n",
    "from torchvision.transforms import v2\n",
    "\n",
    "import warnings\n",
    "warnings.filterwarnings(\"ignore\")"
   ]
  },
  {
   "cell_type": "code",
   "execution_count": null,
   "id": "7c8399e0-2893-4a6a-9e4e-972bff88111f",
   "metadata": {},
   "outputs": [],
   "source": [
    "from transformers import SegformerFeatureExtractor, SegformerForSemanticSegmentation, SegformerImageProcessor\n",
    "from PIL import Image\n",
    "import requests\n",
    "import torch\n",
    "\n",
    "feature_extractor = SegformerFeatureExtractor.from_pretrained(\"nvidia/segformer-b0-finetuned-cityscapes-512-1024\")\n",
    "model = SegformerForSemanticSegmentation.from_pretrained(\"nvidia/segformer-b0-finetuned-cityscapes-512-1024\")\n",
    "processor = SegformerImageProcessor.from_pretrained(\"nvidia/segformer-b0-finetuned-cityscapes-512-1024\")"
   ]
  },
  {
   "cell_type": "markdown",
   "id": "012b17cc-a60f-452d-a892-2a510ad6cdb7",
   "metadata": {},
   "source": [
    "Description\n",
    "---\n",
    "\n",
    "- Use the pretrained NVIDIA Segformer model to classify pixels\n",
    "- Select only class 2\n",
    "- Save image, masked pixels filled with 0 --> street_segm0.jpg\n",
    "- Create bounding box containing the class 2 pixels, save image --> street_segmbbox.jpg"
   ]
  },
  {
   "cell_type": "code",
   "execution_count": null,
   "id": "69caaf69-1172-41b0-9c7b-582947f2612b",
   "metadata": {
    "tags": []
   },
   "outputs": [],
   "source": [
    "data_root = '/work/ka1176/caroline/gitlab/AI4EO-MapYourCity/data/AI4EO-MapYourCity/v1/building-age-dataset'"
   ]
  },
  {
   "cell_type": "code",
   "execution_count": null,
   "id": "310d7680-07d3-4da0-b381-58c7de73e537",
   "metadata": {
    "tags": []
   },
   "outputs": [],
   "source": [
    "split = 'train'\n",
    "data_path = os.path.join(data_root, split, 'data')"
   ]
  },
  {
   "cell_type": "code",
   "execution_count": null,
   "id": "a676f4c9-7152-4b4f-8f75-28675bcaf9e8",
   "metadata": {
    "tags": []
   },
   "outputs": [],
   "source": [
    "df = pd.read_csv(os.path.join(data_root, split, f'{split}-set.csv'))\n",
    "df.head()"
   ]
  },
  {
   "cell_type": "code",
   "execution_count": null,
   "id": "4949a994-9e48-48e1-952c-e1c0c38bc44c",
   "metadata": {
    "tags": []
   },
   "outputs": [],
   "source": [
    "source_filename = 'street.jpg'\n",
    "target_filename = 'street_segm0.jpg'\n",
    "target_bb_filename = 'street_segmbox.jpg'"
   ]
  },
  {
   "cell_type": "code",
   "execution_count": null,
   "id": "b8a05435-7f27-4dcb-b7fa-85c6e0d69e6f",
   "metadata": {
    "tags": []
   },
   "outputs": [],
   "source": [
    "overwrite = False"
   ]
  },
  {
   "cell_type": "code",
   "execution_count": null,
   "id": "443d937f-e493-4dc5-aedb-8443b6f093a3",
   "metadata": {
    "tags": []
   },
   "outputs": [],
   "source": [
    "problem_pids = ['bdpfdxr3yo', 'g3gzdwy6t8']"
   ]
  },
  {
   "cell_type": "code",
   "execution_count": null,
   "id": "62e65056-f611-4605-bdb5-45a4fa03758a",
   "metadata": {
    "scrolled": true,
    "tags": []
   },
   "outputs": [],
   "source": [
    "for pid in problem_pids:#df['pid'].values[::-1]:\n",
    "    \n",
    "    if not os.path.exists(os.path.join(data_path, pid, source_filename)):\n",
    "        print('missing source', pid)\n",
    "        continue\n",
    "    \n",
    "    if os.path.exists(os.path.join(data_path, pid, target_filename)) and \\\n",
    "       os.path.exists(os.path.join(data_path, pid, target_bb_filename)):\n",
    "        if not overwrite: continue    \n",
    "    \n",
    "    with open(os.path.join(data_path, pid, source_filename), 'rb') as ff:\n",
    "        image = Image.open(ff)\n",
    "        image.load()\n",
    "        image = image.convert(\"RGB\")\n",
    "        raw = plt.imread(os.path.join(data_path, pid, source_filename))\n",
    "        \n",
    "        # Segment\n",
    "        inputs = feature_extractor(images=image, return_tensors=\"pt\")\n",
    "        with torch.no_grad():\n",
    "            outputs = model(**inputs)\n",
    "            \n",
    "        # Get predicted map\n",
    "        predicted_segmentation_map = processor.post_process_semantic_segmentation(outputs, target_sizes=[image.size[::-1]])[0]\n",
    "        predicted_segmentation_map = predicted_segmentation_map.cpu().numpy()\n",
    "        \n",
    "        # Mask: Keep only class 2 (which I assume is \"house\")\n",
    "        if not 2 in np.unique(predicted_segmentation_map):\n",
    "            print(f'Class not found in PID {pid}: Keep original image')\n",
    "            image.save(os.path.join(data_path, pid, target_filename))\n",
    "            image.save(os.path.join(data_path, pid, target_bb_filename))\n",
    "            continue\n",
    "        mask = np.ma.make_mask(predicted_segmentation_map==2)\n",
    "        masked_raw = np.where(np.dstack([mask, mask, mask]), raw, 0)\n",
    "        \n",
    "        # Bounding box encompassing the house in the segmentation map\n",
    "        segmentation = np.where(mask==True)\n",
    "        x_min = int(np.min(segmentation[1]))\n",
    "        x_max = int(np.max(segmentation[1]))\n",
    "        y_min = int(np.min(segmentation[0]))\n",
    "        y_max = int(np.max(segmentation[0]))\n",
    "        bb = raw[y_min:y_max, x_min:x_max]\n",
    "                \n",
    "        # Save as image\n",
    "        masked_image = Image.fromarray(masked_raw)\n",
    "        masked_image.save(os.path.join(data_path, pid, target_filename))\n",
    "        \n",
    "        bbox_image = Image.fromarray(bb)\n",
    "        bbox_image.save(os.path.join(data_path, pid, target_bb_filename))\n",
    "        print(f'Targets created for PID {pid}')"
   ]
  },
  {
   "cell_type": "code",
   "execution_count": null,
   "id": "4ceeaf01-02ad-49fd-8efe-45a835698d8d",
   "metadata": {},
   "outputs": [],
   "source": [
    "fig, ax = plt.subplots(1, 3, sharex=False, sharey=False, figsize=(10, 10))\n",
    "#pid = 'd8cwuujz5b'\n",
    "ax[0].imshow(plt.imread(os.path.join(data_path, pid, source_filename)))\n",
    "ax[1].imshow(plt.imread(os.path.join(data_path, pid, target_filename)));\n",
    "ax[2].imshow(plt.imread(os.path.join(data_path, pid, target_bb_filename)));"
   ]
  },
  {
   "cell_type": "code",
   "execution_count": null,
   "id": "8e70b546-9a1e-4706-9640-8b00ff5f67ee",
   "metadata": {},
   "outputs": [],
   "source": []
  }
 ],
 "metadata": {
  "kernelspec": {
   "display_name": "MapYourCity (AI4EO)",
   "language": "python",
   "name": "map-city"
  },
  "language_info": {
   "codemirror_mode": {
    "name": "ipython",
    "version": 3
   },
   "file_extension": ".py",
   "mimetype": "text/x-python",
   "name": "python",
   "nbconvert_exporter": "python",
   "pygments_lexer": "ipython3",
   "version": "3.10.10"
  }
 },
 "nbformat": 4,
 "nbformat_minor": 5
}

{
 "cells": [
  {
   "cell_type": "code",
   "execution_count": null,
   "id": "adc78ccf-76a8-44f6-8a0c-3618f67b9e6d",
   "metadata": {
    "tags": []
   },
   "outputs": [],
   "source": [
    "import pandas as pd\n",
    "import numpy as np\n",
    "import os\n",
    "\n",
    "import seaborn as sns\n",
    "from matplotlib import pyplot as plt\n",
    "\n",
    "import optuna\n",
    "from sklearn.model_selection import StratifiedKFold, StratifiedGroupKFold"
   ]
  },
  {
   "cell_type": "code",
   "execution_count": null,
   "id": "ada4457c-9087-4219-8fa9-18652cdc5446",
   "metadata": {
    "tags": []
   },
   "outputs": [],
   "source": [
    "np.random.seed(404)"
   ]
  },
  {
   "cell_type": "code",
   "execution_count": null,
   "id": "528631d4-ad38-4249-8d34-7fe7991c4e93",
   "metadata": {
    "tags": []
   },
   "outputs": [],
   "source": [
    "split_root = '/home/k/k202141/rootgit/AI4EO-MapYourCity/data/AI4EO-MapYourCity/splits/'"
   ]
  },
  {
   "cell_type": "code",
   "execution_count": null,
   "id": "d5ebcc6a-646e-4a59-a0f7-1a1c43948d1f",
   "metadata": {
    "tags": []
   },
   "outputs": [],
   "source": [
    "train_df = pd.read_csv('/home/k/k202141/rootgit/AI4EO-MapYourCity/data/AI4EO-MapYourCity/v1/building-age-dataset/train/train-set.csv')\n",
    "test_df = pd.read_csv('/home/k/k202141/rootgit/AI4EO-MapYourCity/data/AI4EO-MapYourCity/v1/building-age-dataset/test/test-set.csv')\n",
    "train_df.head()"
   ]
  },
  {
   "cell_type": "code",
   "execution_count": null,
   "id": "8997cf33-7a3a-4800-a9f2-5ec4fd18e4d7",
   "metadata": {
    "tags": []
   },
   "outputs": [],
   "source": [
    "train_df['country_id'].unique(), test_df['country_id'].unique()"
   ]
  },
  {
   "cell_type": "code",
   "execution_count": null,
   "id": "2847eadb-d3da-4809-adfc-1a326f9420b2",
   "metadata": {
    "tags": []
   },
   "outputs": [],
   "source": [
    "def check_distribution(skey, variable, split='train'):\n",
    "    fold_csvs = np.sort(os.listdir(os.path.join(split_root, split_key)))\n",
    "    \n",
    "    dfs = []\n",
    "    \n",
    "    for i in range(len([cc for cc in fold_csvs if split in cc])):\n",
    "        df = pd.read_csv(os.path.join(split_root, skey, f'split_{split}_{i}.csv'))\n",
    "        dfs.append( df[variable].value_counts().to_frame().reset_index().assign(fold=i) )\n",
    "    \n",
    "    return pd.concat(dfs)"
   ]
  },
  {
   "cell_type": "markdown",
   "id": "182de240-faa5-419a-85da-a3b410f47a38",
   "metadata": {},
   "source": [
    "## Random split, stratified by labels"
   ]
  },
  {
   "cell_type": "code",
   "execution_count": null,
   "id": "b676e0ca-af6b-405f-a6ab-b27a20509fac",
   "metadata": {
    "tags": []
   },
   "outputs": [],
   "source": [
    "split_key = 'random_stratified'\n",
    "\n",
    "if not os.path.exists(os.path.join(split_root, split_key)):\n",
    "    os.mkdir(os.path.join(split_root, split_key))\n",
    "print(os.path.join(split_root, split_key))"
   ]
  },
  {
   "cell_type": "code",
   "execution_count": null,
   "id": "747fd2b4-89b2-435f-b8e7-cf8707f1c75c",
   "metadata": {
    "tags": []
   },
   "outputs": [],
   "source": [
    "skf = StratifiedKFold(n_splits=5)"
   ]
  },
  {
   "cell_type": "code",
   "execution_count": null,
   "id": "193ed856-1c84-40fd-8755-fb48b1f3c03a",
   "metadata": {
    "tags": []
   },
   "outputs": [],
   "source": [
    "check_dfs = []\n",
    "\n",
    "for i, (train_idx, valid_idx) in enumerate(skf.split(train_df['pid'], train_df['label'])):\n",
    "    print(i, len(valid_idx))\n",
    "    \n",
    "    cv_train = train_df.iloc[train_idx].assign(fold=i)\n",
    "    cv_valid = train_df.iloc[valid_idx].assign(fold=i)\n",
    "    \n",
    "    \n",
    "    \n",
    "    check_dfs.append( cv_train['label'].value_counts().to_frame().reset_index().assign(fold=i) )\n",
    "    \n",
    "    #cv_train.to_csv(os.path.join(split_root, split_key, f'split_train_{i}.csv'), index=False)\n",
    "    #cv_valid.to_csv(os.path.join(split_root, split_key, f'split_valid_{i}.csv'), index=False)"
   ]
  },
  {
   "cell_type": "code",
   "execution_count": null,
   "id": "0953d687-6090-42ca-b6e6-7f828ab5ad22",
   "metadata": {
    "tags": []
   },
   "outputs": [],
   "source": [
    "fig, axs = plt.subplots(2, 1, sharey=True)\n",
    "\n",
    "check_df = check_distribution('random_stratified', 'label')\n",
    "sns.barplot(data=check_df, x='label', y='count', hue='fold', ax=axs[0])\n",
    "\n",
    "check_df = check_distribution('random_stratified', 'city_id')\n",
    "sns.barplot(data=check_df, x='city_id', y='count', hue='fold', ax=axs[1])\n",
    "plt.show()"
   ]
  },
  {
   "cell_type": "markdown",
   "id": "2ef164bd-3021-4610-b0a1-ae9b8b172f9d",
   "metadata": {
    "tags": []
   },
   "source": [
    "## Random split, stratified by labels and cities"
   ]
  },
  {
   "cell_type": "code",
   "execution_count": null,
   "id": "91e5cd7c-8ffe-4ae4-b8f9-753ace30ef33",
   "metadata": {
    "tags": []
   },
   "outputs": [],
   "source": [
    "split_key = 'random_stratified_labels_cities'\n",
    "\n",
    "if not os.path.exists(os.path.join(split_root, split_key)):\n",
    "    os.mkdir(os.path.join(split_root, split_key))\n",
    "print(os.path.join(split_root, split_key))"
   ]
  },
  {
   "cell_type": "code",
   "execution_count": null,
   "id": "c68b840c-a7a8-4d18-b937-e5112a74d6d5",
   "metadata": {
    "tags": []
   },
   "outputs": [],
   "source": [
    "skf = StratifiedGroupKFold(n_splits=5)"
   ]
  },
  {
   "cell_type": "code",
   "execution_count": null,
   "id": "d1397832-d889-422a-ae5e-ead40536d1e6",
   "metadata": {
    "tags": []
   },
   "outputs": [],
   "source": [
    "for i, (train_idx, valid_idx) in enumerate(skf.split(train_df['pid'], train_df['label'], groups=train_df['city_id'])):    \n",
    "    cv_train = train_df.iloc[train_idx].assign(fold=i)\n",
    "    cv_valid = train_df.iloc[valid_idx].assign(fold=i)\n",
    "    \n",
    "    cv_train.to_csv(os.path.join(split_root, split_key, f'split_train_{i}.csv'), index=False)\n",
    "    cv_valid.to_csv(os.path.join(split_root, split_key, f'split_valid_{i}.csv'), index=False)"
   ]
  },
  {
   "cell_type": "code",
   "execution_count": null,
   "id": "b12f48b8-becb-491f-81f0-4f8952977321",
   "metadata": {
    "tags": []
   },
   "outputs": [],
   "source": [
    "fig, axs = plt.subplots(2, 1, sharey=True)\n",
    "\n",
    "check_df = check_distribution(split_key, 'label')\n",
    "sns.barplot(data=check_df, x='label', y='count', hue='fold', ax=axs[0])\n",
    "\n",
    "check_df = check_distribution(split_key, 'city_id')\n",
    "sns.barplot(data=check_df, x='city_id', y='count', hue='fold', ax=axs[1])\n",
    "plt.show()"
   ]
  },
  {
   "cell_type": "markdown",
   "id": "e7cc10b5-036b-4c89-8a31-b21db82a4cc4",
   "metadata": {},
   "source": [
    "## Split by countries\n",
    "\n",
    "Leave-one-out with countries"
   ]
  },
  {
   "cell_type": "code",
   "execution_count": null,
   "id": "ba5291ee-0286-434d-89a1-2fa72dae3f71",
   "metadata": {
    "tags": []
   },
   "outputs": [],
   "source": [
    "country_ids = train_df['country_id'].unique()\n",
    "country_ids"
   ]
  },
  {
   "cell_type": "code",
   "execution_count": null,
   "id": "0fc7efa3-29f3-4d59-81b7-d6eeb5dd58d2",
   "metadata": {
    "tags": []
   },
   "outputs": [],
   "source": [
    "split_key = 'leave_one_country_out'\n",
    "\n",
    "if not os.path.exists(os.path.join(split_root, split_key)):\n",
    "    os.mkdir(os.path.join(split_root, split_key))\n",
    "print(os.path.join(split_root, split_key))"
   ]
  },
  {
   "cell_type": "code",
   "execution_count": null,
   "id": "518af83b-907a-40f6-9beb-2534522a8321",
   "metadata": {
    "tags": []
   },
   "outputs": [],
   "source": [
    "for i, (country_id) in enumerate(country_ids):\n",
    "    \n",
    "    train_idx = train_df['country_id'] != country_id\n",
    "    valid_idx = train_df['country_id'] == country_id\n",
    "    \n",
    "    cv_train = train_df[train_idx].assign(fold=i)\n",
    "    cv_valid = train_df[valid_idx].assign(fold=i)\n",
    "    \n",
    "    print(i, train_idx.sum(), valid_idx.sum())\n",
    "    \n",
    "    cv_train.to_csv(os.path.join(split_root, split_key, f'split_train_{i}.csv'), index=False)\n",
    "    cv_valid.to_csv(os.path.join(split_root, split_key, f'split_valid_{i}.csv'), index=False)"
   ]
  },
  {
   "cell_type": "code",
   "execution_count": null,
   "id": "32dbf517-7660-44f0-8f6f-2a12685f4c00",
   "metadata": {
    "tags": []
   },
   "outputs": [],
   "source": [
    "fig, axs = plt.subplots(2, 1, sharey=True)\n",
    "\n",
    "check_df = check_distribution(split_key, 'label')\n",
    "sns.barplot(data=check_df, x='label', y='count', hue='fold', ax=axs[0])\n",
    "\n",
    "check_df = check_distribution(split_key, 'city_id')\n",
    "sns.barplot(data=check_df, x='city_id', y='count', hue='fold', ax=axs[1])\n",
    "plt.show()"
   ]
  },
  {
   "cell_type": "markdown",
   "id": "24c8f938-dc88-4dbb-b4fe-a69978a136d5",
   "metadata": {
    "tags": []
   },
   "source": [
    "## Use one country only"
   ]
  },
  {
   "cell_type": "code",
   "execution_count": null,
   "id": "546f5315-2b7c-4dc4-9cef-f307cb38bf7d",
   "metadata": {
    "tags": []
   },
   "outputs": [],
   "source": [
    "country_ids"
   ]
  },
  {
   "cell_type": "code",
   "execution_count": null,
   "id": "8a016e38-b05a-4cae-825c-364f592f86e3",
   "metadata": {
    "tags": []
   },
   "outputs": [],
   "source": [
    "split_key = 'use_only_one_country'\n",
    "\n",
    "if not os.path.exists(os.path.join(split_root, split_key)):\n",
    "    os.mkdir(os.path.join(split_root, split_key))\n",
    "print(os.path.join(split_root, split_key))"
   ]
  },
  {
   "cell_type": "code",
   "execution_count": null,
   "id": "6ee85f68-196d-43a8-8b93-4d9b1f48dcfa",
   "metadata": {
    "tags": []
   },
   "outputs": [],
   "source": [
    "# Dictionary based on actual counts\n",
    "train_cities = dict(QCD=['JVVQZ', 'AJSUR'],\n",
    "                    PNN=['U8MZD'],\n",
    "                    HUN=['3TIYD'],\n",
    "                    FMW=['H8ZYW', 'THRYV', 'O8WX6'])"
   ]
  },
  {
   "cell_type": "code",
   "execution_count": null,
   "id": "1e36dcaf-3d77-4431-a545-d79d3af96061",
   "metadata": {
    "tags": []
   },
   "outputs": [],
   "source": [
    "for i, c in enumerate(country_ids):\n",
    "    if c in ['EMA', 'NEA']:\n",
    "        continue\n",
    "    print('  ' + c)\n",
    "    \n",
    "    country_df = train_df[train_df['country_id'] == c]\n",
    "    \n",
    "    city_ids = country_df['city_id'].unique()\n",
    "    \n",
    "    cv_train = country_df.query(f\"city_id in {train_cities[c]}\").assign(fold=i)\n",
    "    cv_valid = country_df.query(f\"city_id not in {train_cities[c]}\").assign(fold=i)\n",
    "    cv_valid.to_csv(os.path.join(split_root, split_key, f'split_valid_{i}.csv'), index=False)\n",
    "    cv_train.to_csv(os.path.join(split_root, split_key, f'split_train_{i}.csv'), index=False)"
   ]
  },
  {
   "cell_type": "markdown",
   "id": "7f8c7f96-bf28-4862-9cfd-669251aa4876",
   "metadata": {
    "tags": []
   },
   "source": [
    "## Random split, stratified by labels and cities, drop EMA and NEA"
   ]
  },
  {
   "cell_type": "code",
   "execution_count": null,
   "id": "86d36670-ff30-4f8a-82e1-eab83ed9faba",
   "metadata": {
    "tags": []
   },
   "outputs": [],
   "source": [
    "split_key = 'random_stratified_labels_cities_noEMA_noNEA'\n",
    "\n",
    "if not os.path.exists(os.path.join(split_root, split_key)):\n",
    "    os.mkdir(os.path.join(split_root, split_key))\n",
    "print(os.path.join(split_root, split_key))"
   ]
  },
  {
   "cell_type": "code",
   "execution_count": null,
   "id": "975baedb-1623-4c4c-9358-6feacb4e5e21",
   "metadata": {
    "tags": []
   },
   "outputs": [],
   "source": [
    "skf = StratifiedGroupKFold(n_splits=5)"
   ]
  },
  {
   "cell_type": "code",
   "execution_count": null,
   "id": "53d7eb6d-c0f7-4a1c-9abc-c2dfd0289a70",
   "metadata": {
    "tags": []
   },
   "outputs": [],
   "source": [
    "for i, (train_idx, valid_idx) in enumerate(skf.split(train_df['pid'], train_df['label'], groups=train_df['city_id'])):    \n",
    "    cv_train = train_df.iloc[train_idx].assign(fold=i)\n",
    "    cv_valid = train_df.iloc[valid_idx].assign(fold=i)\n",
    "    \n",
    "    cv_train.to_csv(os.path.join(split_root, split_key, f'split_train_{i}.csv'), index=False)\n",
    "    cv_valid.to_csv(os.path.join(split_root, split_key, f'split_valid_{i}.csv'), index=False)"
   ]
  },
  {
   "cell_type": "code",
   "execution_count": null,
   "id": "7d934cac-861a-45e5-8916-f637652b9486",
   "metadata": {
    "tags": []
   },
   "outputs": [],
   "source": [
    "fig, axs = plt.subplots(2, 1, sharey=True)\n",
    "\n",
    "check_df = check_distribution(split_key, 'label')\n",
    "sns.barplot(data=check_df, x='label', y='count', hue='fold', ax=axs[0])\n",
    "\n",
    "check_df = check_distribution(split_key, 'city_id')\n",
    "sns.barplot(data=check_df, x='city_id', y='count', hue='fold', ax=axs[1])\n",
    "plt.show()"
   ]
  },
  {
   "cell_type": "markdown",
   "id": "67edc076-32e0-471e-aa75-cc6000f11474",
   "metadata": {
    "tags": []
   },
   "source": [
    "## Use one country only, but stratified 5-fold"
   ]
  },
  {
   "cell_type": "code",
   "execution_count": null,
   "id": "da22642c-a77d-4bf4-a8f4-ad76b0a73abb",
   "metadata": {
    "tags": []
   },
   "outputs": [],
   "source": [
    "country_ids"
   ]
  },
  {
   "cell_type": "code",
   "execution_count": null,
   "id": "722b966e-9431-49c9-a4cc-06307092e0ac",
   "metadata": {
    "tags": []
   },
   "outputs": [],
   "source": [
    "split_key = 'use_only_one_country_3-fold'\n",
    "\n",
    "if not os.path.exists(os.path.join(split_root, split_key)):\n",
    "    os.mkdir(os.path.join(split_root, split_key))\n",
    "print(os.path.join(split_root, split_key))"
   ]
  },
  {
   "cell_type": "code",
   "execution_count": null,
   "id": "24e2f038-e765-490e-99cc-bd7c51e85d21",
   "metadata": {
    "tags": []
   },
   "outputs": [],
   "source": [
    "n = 0\n",
    "\n",
    "for i, c in enumerate(country_ids):\n",
    "    if c in ['EMA', 'NEA']:\n",
    "        continue\n",
    "    print('  ' + c)\n",
    "    \n",
    "    country_df = train_df[train_df['country_id'] == c]\n",
    "    \n",
    "    skf = StratifiedKFold(n_splits=3)\n",
    "    \n",
    "    for j, (train_idx, valid_idx) in enumerate(skf.split(country_df['pid'], country_df['label'])):\n",
    "        print(n, len(valid_idx))\n",
    "    \n",
    "        cv_train = country_df.iloc[train_idx].assign(fold=n)\n",
    "        cv_valid = country_df.iloc[valid_idx].assign(fold=n)\n",
    "        cv_train.to_csv(os.path.join(split_root, split_key, f'split_train_{n}.csv'), index=False)\n",
    "        cv_valid.to_csv(os.path.join(split_root, split_key, f'split_valid_{n}.csv'), index=False)\n",
    "        n += 1\n",
    "    \n"
   ]
  },
  {
   "cell_type": "code",
   "execution_count": null,
   "id": "024597a8-180c-4f81-8abd-a1c8ef07ffc8",
   "metadata": {},
   "outputs": [],
   "source": []
  }
 ],
 "metadata": {
  "kernelspec": {
   "display_name": "1 Python 3 (based on the module python3/2023.01)",
   "language": "python",
   "name": "python3_2023_01"
  },
  "language_info": {
   "codemirror_mode": {
    "name": "ipython",
    "version": 3
   },
   "file_extension": ".py",
   "mimetype": "text/x-python",
   "name": "python",
   "nbconvert_exporter": "python",
   "pygments_lexer": "ipython3",
   "version": "3.10.10"
  }
 },
 "nbformat": 4,
 "nbformat_minor": 5
}

{
 "cells": [
  {
   "cell_type": "code",
   "execution_count": null,
   "id": "bc64b59c-cffc-4801-9aaa-aa25ae904b6e",
   "metadata": {
    "tags": []
   },
   "outputs": [],
   "source": [
    "import os"
   ]
  },
  {
   "cell_type": "code",
   "execution_count": null,
   "id": "3ce1b707-45ac-4b81-b398-3019153a1fa2",
   "metadata": {
    "tags": []
   },
   "outputs": [],
   "source": [
    "with open('/home/k/k202141/rootgit/AI4EO-MapYourCity/scripts/header.txt') as f:\n",
    "    header = f.readlines()"
   ]
  },
  {
   "cell_type": "code",
   "execution_count": null,
   "id": "df4bbd3c-cdbb-41cd-a2da-8b7930b665b8",
   "metadata": {
    "tags": []
   },
   "outputs": [],
   "source": [
    "with open('/home/k/k202141/rootgit/AI4EO-MapYourCity/scripts/expsource.txt') as f:\n",
    "    explines = f.readlines()"
   ]
  },
  {
   "cell_type": "code",
   "execution_count": null,
   "id": "669632fb-bd51-4da8-aa79-4031e7ce0a98",
   "metadata": {
    "tags": []
   },
   "outputs": [],
   "source": [
    "sroot = '/home/k/k202141/rootgit/AI4EO-MapYourCity/scripts/'"
   ]
  },
  {
   "cell_type": "code",
   "execution_count": null,
   "id": "b0a7b2d1-d39b-4e37-8c3d-cb48acd902c2",
   "metadata": {
    "tags": []
   },
   "outputs": [],
   "source": [
    "with open(os.path.join(sroot, 'batch.sh'), 'w') as ff:\n",
    "    for i, l in enumerate(explines):\n",
    "        sf = f'submit_{i:02d}.sh'\n",
    "    \n",
    "        with open(os.path.join(sroot, sf), 'w') as f:\n",
    "            for h in header:\n",
    "                f.write(h)\n",
    "            f.write(l)\n",
    "            print(l)\n",
    "    \n",
    "            f.close()\n",
    "        ff.write(f'sbatch {sf}\\n')\n",
    "        ff.write('sleep 10\\n')\n",
    "    ff.close()\n",
    "    \n",
    "    "
   ]
  },
  {
   "cell_type": "code",
   "execution_count": null,
   "id": "244162bc-bd57-466e-be83-1a37f55f7c6a",
   "metadata": {},
   "outputs": [],
   "source": []
  },
  {
   "cell_type": "code",
   "execution_count": null,
   "id": "10b808d0-38b3-407a-b036-d74aeac2b68c",
   "metadata": {},
   "outputs": [],
   "source": []
  }
 ],
 "metadata": {
  "kernelspec": {
   "display_name": "1 Python 3 (based on the module python3/2023.01)",
   "language": "python",
   "name": "python3_2023_01"
  },
  "language_info": {
   "codemirror_mode": {
    "name": "ipython",
    "version": 3
   },
   "file_extension": ".py",
   "mimetype": "text/x-python",
   "name": "python",
   "nbconvert_exporter": "python",
   "pygments_lexer": "ipython3",
   "version": "3.10.10"
  }
 },
 "nbformat": 4,
 "nbformat_minor": 5
}
